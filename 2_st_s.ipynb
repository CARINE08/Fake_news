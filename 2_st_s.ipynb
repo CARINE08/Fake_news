{
 "cells": [
  {
   "cell_type": "code",
   "execution_count": 1,
   "id": "c8a83e63-c912-4d3e-97d0-9a5857a94e93",
   "metadata": {},
   "outputs": [
    {
     "name": "stdout",
     "output_type": "stream",
     "text": [
      "\u001b[38;5;3m⚠ As of spaCy v3.0, shortcuts like 'en' are deprecated. Please use the\n",
      "full pipeline package name 'en_core_web_sm' instead.\u001b[0m\n",
      "\u001b[38;5;2m✔ Download and installation successful\u001b[0m\n",
      "You can now load the package via spacy.load('en_core_web_sm')\n",
      "\n",
      "\u001b[38;5;1m✘ No compatible package found for 'en_core_news_md' (spaCy v3.2.4)\u001b[0m\n",
      "\n"
     ]
    }
   ],
   "source": [
    "!pip3 install spacy -q\n",
    "!python3 -m spacy download en -q\n",
    "!python3 -m spacy download en_core_news_md -q"
   ]
  },
  {
   "cell_type": "markdown",
   "id": "89afd8a7-1dbf-4520-b543-be81d403a6f9",
   "metadata": {},
   "source": [
    "### importer les differentes librairies"
   ]
  },
  {
   "cell_type": "code",
   "execution_count": 2,
   "id": "5501d1cd-1b19-4022-968f-dba94d678cfb",
   "metadata": {},
   "outputs": [],
   "source": [
    "import pandas as pd\n",
    "import spacy\n",
    "import matplotlib.pyplot as plt\n",
    "from urllib.parse import urlparse"
   ]
  },
  {
   "cell_type": "markdown",
   "id": "eb07c561-1cc9-43f1-8752-ad5e129dc619",
   "metadata": {},
   "source": [
    "### lire nos données et transformer les colonnes majuscules en minuscules"
   ]
  },
  {
   "cell_type": "code",
   "execution_count": 3,
   "id": "0b41b753-a867-456f-9206-0de46d4d15f9",
   "metadata": {},
   "outputs": [
    {
     "data": {
      "text/html": [
       "<div>\n",
       "<style scoped>\n",
       "    .dataframe tbody tr th:only-of-type {\n",
       "        vertical-align: middle;\n",
       "    }\n",
       "\n",
       "    .dataframe tbody tr th {\n",
       "        vertical-align: top;\n",
       "    }\n",
       "\n",
       "    .dataframe thead th {\n",
       "        text-align: right;\n",
       "    }\n",
       "</style>\n",
       "<table border=\"1\" class=\"dataframe\">\n",
       "  <thead>\n",
       "    <tr style=\"text-align: right;\">\n",
       "      <th></th>\n",
       "      <th>labels</th>\n",
       "      <th>text</th>\n",
       "      <th>text_tag</th>\n",
       "    </tr>\n",
       "  </thead>\n",
       "  <tbody>\n",
       "    <tr>\n",
       "      <th>4116</th>\n",
       "      <td>5</td>\n",
       "      <td>The world food demand is going to double somet...</td>\n",
       "      <td>poverty</td>\n",
       "    </tr>\n",
       "    <tr>\n",
       "      <th>2575</th>\n",
       "      <td>3</td>\n",
       "      <td>Says he earned the highest possible credit rat...</td>\n",
       "      <td>government-efficiency,job-accomplishments,mess...</td>\n",
       "    </tr>\n",
       "    <tr>\n",
       "      <th>105</th>\n",
       "      <td>5</td>\n",
       "      <td>Sen. Obama has always had a 100 percent procho...</td>\n",
       "      <td>abortion</td>\n",
       "    </tr>\n",
       "    <tr>\n",
       "      <th>4647</th>\n",
       "      <td>0</td>\n",
       "      <td>In 2009, his first year as mayor, Julin Castro...</td>\n",
       "      <td>campaign-finance,candidates-biography,ethics</td>\n",
       "    </tr>\n",
       "    <tr>\n",
       "      <th>8354</th>\n",
       "      <td>0</td>\n",
       "      <td>The most popular name is no longer John or Ste...</td>\n",
       "      <td>diversity,families,immigration</td>\n",
       "    </tr>\n",
       "    <tr>\n",
       "      <th>4496</th>\n",
       "      <td>5</td>\n",
       "      <td>Governor Palin is the most popular governor in...</td>\n",
       "      <td>candidates-biography</td>\n",
       "    </tr>\n",
       "    <tr>\n",
       "      <th>595</th>\n",
       "      <td>0</td>\n",
       "      <td>Kendrick Meek was #1 in Florida in taking toba...</td>\n",
       "      <td>campaign-finance,candidates-biography</td>\n",
       "    </tr>\n",
       "    <tr>\n",
       "      <th>3905</th>\n",
       "      <td>2</td>\n",
       "      <td>Says Michael Bennet votes for President Obamas...</td>\n",
       "      <td>bipartisanship,voting-record</td>\n",
       "    </tr>\n",
       "    <tr>\n",
       "      <th>1514</th>\n",
       "      <td>2</td>\n",
       "      <td>Women in Barack Obamas White House are earning...</td>\n",
       "      <td>jobs,women</td>\n",
       "    </tr>\n",
       "    <tr>\n",
       "      <th>2055</th>\n",
       "      <td>3</td>\n",
       "      <td>Says House Republicans rejected a straightforw...</td>\n",
       "      <td>ethics,federal-budget,voting-record,workers</td>\n",
       "    </tr>\n",
       "  </tbody>\n",
       "</table>\n",
       "</div>"
      ],
      "text/plain": [
       "      labels                                               text  \\\n",
       "4116       5  The world food demand is going to double somet...   \n",
       "2575       3  Says he earned the highest possible credit rat...   \n",
       "105        5  Sen. Obama has always had a 100 percent procho...   \n",
       "4647       0  In 2009, his first year as mayor, Julin Castro...   \n",
       "8354       0  The most popular name is no longer John or Ste...   \n",
       "4496       5  Governor Palin is the most popular governor in...   \n",
       "595        0  Kendrick Meek was #1 in Florida in taking toba...   \n",
       "3905       2  Says Michael Bennet votes for President Obamas...   \n",
       "1514       2  Women in Barack Obamas White House are earning...   \n",
       "2055       3  Says House Republicans rejected a straightforw...   \n",
       "\n",
       "                                               text_tag  \n",
       "4116                                            poverty  \n",
       "2575  government-efficiency,job-accomplishments,mess...  \n",
       "105                                            abortion  \n",
       "4647       campaign-finance,candidates-biography,ethics  \n",
       "8354                     diversity,families,immigration  \n",
       "4496                               candidates-biography  \n",
       "595               campaign-finance,candidates-biography  \n",
       "3905                       bipartisanship,voting-record  \n",
       "1514                                         jobs,women  \n",
       "2055        ethics,federal-budget,voting-record,workers  "
      ]
     },
     "execution_count": 3,
     "metadata": {},
     "output_type": "execute_result"
    }
   ],
   "source": [
    "df = pd.read_csv('/home/jovyan/Projects/projet_perso/train.csv')\n",
    "df.columns = df.columns.str.lower()\n",
    "df.sample(10)"
   ]
  },
  {
   "cell_type": "markdown",
   "id": "21a206ed-d6c9-497c-b583-a5b54bf4567d",
   "metadata": {},
   "source": [
    "### Filtrer nos données par rapport aux labels qui sont différents de 4 (4 = Iconnu)"
   ]
  },
  {
   "cell_type": "code",
   "execution_count": 4,
   "id": "d3dd4b16-e50e-45d5-937b-ace725500329",
   "metadata": {},
   "outputs": [],
   "source": [
    "df = df[df[\"labels\"] != 4]"
   ]
  },
  {
   "cell_type": "markdown",
   "id": "88406ae4-ab85-4319-aeac-2c64b3e2f3b1",
   "metadata": {},
   "source": [
    "### supprimer les valeurs manquantes"
   ]
  },
  {
   "cell_type": "code",
   "execution_count": 5,
   "id": "fa7fc164-3b9b-4c9f-ba6e-a51d8e39dabe",
   "metadata": {},
   "outputs": [
    {
     "data": {
      "text/plain": [
       "(9399, 3)"
      ]
     },
     "execution_count": 5,
     "metadata": {},
     "output_type": "execute_result"
    }
   ],
   "source": [
    "df.isnull().any()\n",
    "df[\"text_tag\"].isnull().sum()\n",
    "df=df.dropna()\n",
    "df.shape"
   ]
  },
  {
   "cell_type": "markdown",
   "id": "91d241a5-f672-4463-b5ac-67dbb94fa584",
   "metadata": {},
   "source": [
    "### transformer nos labels multivariés en bivariés ( 1 = Fake news, 0 = vrai info)"
   ]
  },
  {
   "cell_type": "code",
   "execution_count": 6,
   "id": "da04eb4b-c3ea-4b3c-83d6-a1a60a1a86bf",
   "metadata": {},
   "outputs": [
    {
     "data": {
      "text/plain": [
       "1    5761\n",
       "0    3638\n",
       "Name: labels, dtype: int64"
      ]
     },
     "execution_count": 6,
     "metadata": {},
     "output_type": "execute_result"
    }
   ],
   "source": [
    "df[\"labels\"] =df[\"labels\"].apply(lambda x : 0 if x == 3 or x == 5\n",
    "                       else 1)\n",
    "df[\"labels\"].value_counts()"
   ]
  },
  {
   "cell_type": "code",
   "execution_count": 7,
   "id": "a207975c-14c1-49e4-bb75-972f543b8ad2",
   "metadata": {},
   "outputs": [
    {
     "data": {
      "text/html": [
       "<div>\n",
       "<style scoped>\n",
       "    .dataframe tbody tr th:only-of-type {\n",
       "        vertical-align: middle;\n",
       "    }\n",
       "\n",
       "    .dataframe tbody tr th {\n",
       "        vertical-align: top;\n",
       "    }\n",
       "\n",
       "    .dataframe thead th {\n",
       "        text-align: right;\n",
       "    }\n",
       "</style>\n",
       "<table border=\"1\" class=\"dataframe\">\n",
       "  <thead>\n",
       "    <tr style=\"text-align: right;\">\n",
       "      <th></th>\n",
       "      <th>labels</th>\n",
       "      <th>text</th>\n",
       "      <th>text_tag</th>\n",
       "    </tr>\n",
       "  </thead>\n",
       "  <tbody>\n",
       "    <tr>\n",
       "      <th>7917</th>\n",
       "      <td>0</td>\n",
       "      <td>I used tax cuts to help create over 80,000 job...</td>\n",
       "      <td>taxes</td>\n",
       "    </tr>\n",
       "    <tr>\n",
       "      <th>7734</th>\n",
       "      <td>1</td>\n",
       "      <td>Will (HB2)threaten federal funding for public ...</td>\n",
       "      <td>education,gays-and-lesbians,government-regulat...</td>\n",
       "    </tr>\n",
       "    <tr>\n",
       "      <th>1732</th>\n",
       "      <td>1</td>\n",
       "      <td>Cory Gardner is sponsoring a bill to ban all a...</td>\n",
       "      <td>abortion,message-machine-2014,women</td>\n",
       "    </tr>\n",
       "    <tr>\n",
       "      <th>7511</th>\n",
       "      <td>1</td>\n",
       "      <td>After initially agreeing with Republicans on a...</td>\n",
       "      <td>abortion,public-health</td>\n",
       "    </tr>\n",
       "    <tr>\n",
       "      <th>3142</th>\n",
       "      <td>1</td>\n",
       "      <td>Says these Jersey Shore folks, theyre from New...</td>\n",
       "      <td>pop-culture</td>\n",
       "    </tr>\n",
       "    <tr>\n",
       "      <th>9640</th>\n",
       "      <td>0</td>\n",
       "      <td>We have cut our deficits by almost three-quart...</td>\n",
       "      <td>deficit,economy</td>\n",
       "    </tr>\n",
       "    <tr>\n",
       "      <th>9827</th>\n",
       "      <td>1</td>\n",
       "      <td>Betty Sutton gutted Medicare by $500 billion w...</td>\n",
       "      <td>health-care,medicare,voting-record</td>\n",
       "    </tr>\n",
       "    <tr>\n",
       "      <th>2623</th>\n",
       "      <td>1</td>\n",
       "      <td>Says Hillary Clinton has been in office and in...</td>\n",
       "      <td>candidates-biography</td>\n",
       "    </tr>\n",
       "    <tr>\n",
       "      <th>4620</th>\n",
       "      <td>1</td>\n",
       "      <td>There are still more people uninsured today th...</td>\n",
       "      <td>health-care</td>\n",
       "    </tr>\n",
       "    <tr>\n",
       "      <th>1778</th>\n",
       "      <td>1</td>\n",
       "      <td>Since President Obama came into office, anothe...</td>\n",
       "      <td>diversity,poverty</td>\n",
       "    </tr>\n",
       "  </tbody>\n",
       "</table>\n",
       "</div>"
      ],
      "text/plain": [
       "      labels                                               text  \\\n",
       "7917       0  I used tax cuts to help create over 80,000 job...   \n",
       "7734       1  Will (HB2)threaten federal funding for public ...   \n",
       "1732       1  Cory Gardner is sponsoring a bill to ban all a...   \n",
       "7511       1  After initially agreeing with Republicans on a...   \n",
       "3142       1  Says these Jersey Shore folks, theyre from New...   \n",
       "9640       0  We have cut our deficits by almost three-quart...   \n",
       "9827       1  Betty Sutton gutted Medicare by $500 billion w...   \n",
       "2623       1  Says Hillary Clinton has been in office and in...   \n",
       "4620       1  There are still more people uninsured today th...   \n",
       "1778       1  Since President Obama came into office, anothe...   \n",
       "\n",
       "                                               text_tag  \n",
       "7917                                              taxes  \n",
       "7734  education,gays-and-lesbians,government-regulat...  \n",
       "1732                abortion,message-machine-2014,women  \n",
       "7511                             abortion,public-health  \n",
       "3142                                        pop-culture  \n",
       "9640                                    deficit,economy  \n",
       "9827                 health-care,medicare,voting-record  \n",
       "2623                               candidates-biography  \n",
       "4620                                        health-care  \n",
       "1778                                  diversity,poverty  "
      ]
     },
     "execution_count": 7,
     "metadata": {},
     "output_type": "execute_result"
    }
   ],
   "source": [
    "df.sample(10)"
   ]
  },
  {
   "cell_type": "markdown",
   "id": "48712c75-7c76-4e71-bdb7-7600156b39db",
   "metadata": {},
   "source": [
    "### transformer tous les tag_text majuscules en minuscules"
   ]
  },
  {
   "cell_type": "code",
   "execution_count": 8,
   "id": "9b7102ae-1e1a-4338-badb-9575e2656f33",
   "metadata": {},
   "outputs": [],
   "source": [
    "df[\"text_tag\"] = df[\"text_tag\"].fillna(\"\").str.lower()"
   ]
  },
  {
   "cell_type": "code",
   "execution_count": 9,
   "id": "b14ed93c-55a1-4fd0-823c-ba59a16d705b",
   "metadata": {},
   "outputs": [
    {
     "data": {
      "text/plain": [
       "array(['abortion', 'energy,history,job-accomplishments', 'foreign-policy',\n",
       "       ..., 'animals,elections', 'retirement,social-security',\n",
       "       'florida,foreign-policy'], dtype=object)"
      ]
     },
     "execution_count": 9,
     "metadata": {},
     "output_type": "execute_result"
    }
   ],
   "source": [
    "tags = df.text_tag.unique()\n",
    "tags"
   ]
  },
  {
   "cell_type": "markdown",
   "id": "832901ff-12e3-43b8-b1aa-f52de622d2bc",
   "metadata": {},
   "source": [
    "### rajouter nos tag_text au text"
   ]
  },
  {
   "cell_type": "code",
   "execution_count": 10,
   "id": "d1a510f2-a33c-4239-9a21-5e73c8b7cfc5",
   "metadata": {},
   "outputs": [
    {
     "data": {
      "text/plain": [
       "'Says the Annies List political group supports third-trimester abortions on demand. abortion'"
      ]
     },
     "execution_count": 10,
     "metadata": {},
     "output_type": "execute_result"
    }
   ],
   "source": [
    "df[\"text\"] = df[\"text\"] + \" \" + df[\"text_tag\"].str.replace(\",\", \" \")\n",
    "df[\"text\"][0]"
   ]
  },
  {
   "cell_type": "markdown",
   "id": "c30efd51-ad5b-41ac-8a2e-7c9d6b98df4d",
   "metadata": {},
   "source": [
    "supprimer la colonnes text_tag"
   ]
  },
  {
   "cell_type": "code",
   "execution_count": 11,
   "id": "381e3fb1-4317-4cb8-98d1-580df1baef44",
   "metadata": {},
   "outputs": [
    {
     "data": {
      "text/html": [
       "<div>\n",
       "<style scoped>\n",
       "    .dataframe tbody tr th:only-of-type {\n",
       "        vertical-align: middle;\n",
       "    }\n",
       "\n",
       "    .dataframe tbody tr th {\n",
       "        vertical-align: top;\n",
       "    }\n",
       "\n",
       "    .dataframe thead th {\n",
       "        text-align: right;\n",
       "    }\n",
       "</style>\n",
       "<table border=\"1\" class=\"dataframe\">\n",
       "  <thead>\n",
       "    <tr style=\"text-align: right;\">\n",
       "      <th></th>\n",
       "      <th>labels</th>\n",
       "      <th>text</th>\n",
       "    </tr>\n",
       "  </thead>\n",
       "  <tbody>\n",
       "    <tr>\n",
       "      <th>0</th>\n",
       "      <td>1</td>\n",
       "      <td>Says the Annies List political group supports ...</td>\n",
       "    </tr>\n",
       "    <tr>\n",
       "      <th>1</th>\n",
       "      <td>1</td>\n",
       "      <td>When did the decline of coal start? It started...</td>\n",
       "    </tr>\n",
       "    <tr>\n",
       "      <th>2</th>\n",
       "      <td>0</td>\n",
       "      <td>Hillary Clinton agrees with John McCain \"by vo...</td>\n",
       "    </tr>\n",
       "    <tr>\n",
       "      <th>3</th>\n",
       "      <td>1</td>\n",
       "      <td>Health care reform legislation is likely to ma...</td>\n",
       "    </tr>\n",
       "    <tr>\n",
       "      <th>4</th>\n",
       "      <td>1</td>\n",
       "      <td>The economic turnaround started at the end of ...</td>\n",
       "    </tr>\n",
       "  </tbody>\n",
       "</table>\n",
       "</div>"
      ],
      "text/plain": [
       "   labels                                               text\n",
       "0       1  Says the Annies List political group supports ...\n",
       "1       1  When did the decline of coal start? It started...\n",
       "2       0  Hillary Clinton agrees with John McCain \"by vo...\n",
       "3       1  Health care reform legislation is likely to ma...\n",
       "4       1  The economic turnaround started at the end of ..."
      ]
     },
     "execution_count": 11,
     "metadata": {},
     "output_type": "execute_result"
    }
   ],
   "source": [
    "df = df.drop(columns = \"text_tag\")\n",
    "df.head()"
   ]
  },
  {
   "cell_type": "code",
   "execution_count": 12,
   "id": "0f1b9889-62be-491c-a23d-ebc48ab19be6",
   "metadata": {},
   "outputs": [
    {
     "data": {
      "text/plain": [
       "'When did the decline of coal start? It started when natural gas took off that started to begin in (President George W.) Bushs administration. energy history job-accomplishments'"
      ]
     },
     "execution_count": 12,
     "metadata": {},
     "output_type": "execute_result"
    }
   ],
   "source": [
    "df[\"text\"][1]"
   ]
  },
  {
   "cell_type": "markdown",
   "id": "097680d5-c543-4907-b575-e15e481d53ba",
   "metadata": {},
   "source": [
    "### Stemming du text"
   ]
  },
  {
   "cell_type": "code",
   "execution_count": 16,
   "id": "652ce04f-5033-42b0-9203-0bc530d36c54",
   "metadata": {},
   "outputs": [
    {
     "name": "stderr",
     "output_type": "stream",
     "text": [
      "[nltk_data] Downloading package punkt to /home/jovyan/nltk_data...\n",
      "[nltk_data]   Package punkt is already up-to-date!\n"
     ]
    },
    {
     "data": {
      "text/plain": [
       "['When did the decline of coal start? It started when natural gas took off that started to begin in (President George W.) Bushs administration. energy history job-accomplishments',\n",
       " ['when',\n",
       "  'did',\n",
       "  'the',\n",
       "  'declin',\n",
       "  'of',\n",
       "  'coal',\n",
       "  'start?',\n",
       "  'it',\n",
       "  'start',\n",
       "  'when',\n",
       "  'natur',\n",
       "  'gas',\n",
       "  'took',\n",
       "  'off',\n",
       "  'that',\n",
       "  'start',\n",
       "  'to',\n",
       "  'begin',\n",
       "  'in',\n",
       "  '(presid',\n",
       "  'georg',\n",
       "  'w.)',\n",
       "  'bush',\n",
       "  'administration.',\n",
       "  'energi',\n",
       "  'histori',\n",
       "  'job-accomplish']]"
      ]
     },
     "execution_count": 16,
     "metadata": {},
     "output_type": "execute_result"
    }
   ],
   "source": [
    "import nltk\n",
    "nltk.download('punkt')\n",
    "\n",
    "from nltk import word_tokenize\n",
    "from nltk.stem import SnowballStemmer\n",
    "\n",
    "en = SnowballStemmer('english')\n",
    "df[\"text_stem\"] = df[\"text\"].map(lambda s: [en.stem(word) for word in s.split(\" \")])\n",
    "\n",
    "df[[\"text\", \"text_stem\"]].iloc[1].tolist()"
   ]
  },
  {
   "cell_type": "code",
   "execution_count": 17,
   "id": "e9428728-252a-414a-a6a9-a8cba954cd82",
   "metadata": {},
   "outputs": [
    {
     "data": {
      "text/plain": [
       "15529"
      ]
     },
     "execution_count": 17,
     "metadata": {},
     "output_type": "execute_result"
    }
   ],
   "source": [
    "all_text = \" \".join(df[\"text_stem\"].map(lambda l: \" \".join(l)).tolist())\n",
    "len(set(all_text.split(\" \")))"
   ]
  },
  {
   "cell_type": "code",
   "execution_count": 18,
   "id": "9be4ebcc-1c0e-4116-aa06-4b9d89a4830e",
   "metadata": {},
   "outputs": [
    {
     "data": {
      "text/html": [
       "<div>\n",
       "<style scoped>\n",
       "    .dataframe tbody tr th:only-of-type {\n",
       "        vertical-align: middle;\n",
       "    }\n",
       "\n",
       "    .dataframe tbody tr th {\n",
       "        vertical-align: top;\n",
       "    }\n",
       "\n",
       "    .dataframe thead th {\n",
       "        text-align: right;\n",
       "    }\n",
       "</style>\n",
       "<table border=\"1\" class=\"dataframe\">\n",
       "  <thead>\n",
       "    <tr style=\"text-align: right;\">\n",
       "      <th></th>\n",
       "      <th>labels</th>\n",
       "      <th>text</th>\n",
       "      <th>text_stem</th>\n",
       "    </tr>\n",
       "  </thead>\n",
       "  <tbody>\n",
       "    <tr>\n",
       "      <th>0</th>\n",
       "      <td>1</td>\n",
       "      <td>Says the Annies List political group supports ...</td>\n",
       "      <td>[say, the, anni, list, polit, group, support, ...</td>\n",
       "    </tr>\n",
       "    <tr>\n",
       "      <th>1</th>\n",
       "      <td>1</td>\n",
       "      <td>When did the decline of coal start? It started...</td>\n",
       "      <td>[when, did, the, declin, of, coal, start?, it,...</td>\n",
       "    </tr>\n",
       "    <tr>\n",
       "      <th>2</th>\n",
       "      <td>0</td>\n",
       "      <td>Hillary Clinton agrees with John McCain \"by vo...</td>\n",
       "      <td>[hillari, clinton, agre, with, john, mccain, \"...</td>\n",
       "    </tr>\n",
       "    <tr>\n",
       "      <th>3</th>\n",
       "      <td>1</td>\n",
       "      <td>Health care reform legislation is likely to ma...</td>\n",
       "      <td>[health, care, reform, legisl, is, like, to, m...</td>\n",
       "    </tr>\n",
       "    <tr>\n",
       "      <th>4</th>\n",
       "      <td>1</td>\n",
       "      <td>The economic turnaround started at the end of ...</td>\n",
       "      <td>[the, econom, turnaround, start, at, the, end,...</td>\n",
       "    </tr>\n",
       "  </tbody>\n",
       "</table>\n",
       "</div>"
      ],
      "text/plain": [
       "   labels                                               text  \\\n",
       "0       1  Says the Annies List political group supports ...   \n",
       "1       1  When did the decline of coal start? It started...   \n",
       "2       0  Hillary Clinton agrees with John McCain \"by vo...   \n",
       "3       1  Health care reform legislation is likely to ma...   \n",
       "4       1  The economic turnaround started at the end of ...   \n",
       "\n",
       "                                           text_stem  \n",
       "0  [say, the, anni, list, polit, group, support, ...  \n",
       "1  [when, did, the, declin, of, coal, start?, it,...  \n",
       "2  [hillari, clinton, agre, with, john, mccain, \"...  \n",
       "3  [health, care, reform, legisl, is, like, to, m...  \n",
       "4  [the, econom, turnaround, start, at, the, end,...  "
      ]
     },
     "execution_count": 18,
     "metadata": {},
     "output_type": "execute_result"
    }
   ],
   "source": [
    "df.head()"
   ]
  },
  {
   "cell_type": "code",
   "execution_count": 19,
   "id": "0fa749d3-cad2-483c-b2c8-613c951b9273",
   "metadata": {},
   "outputs": [
    {
     "data": {
      "text/plain": [
       "['when',\n",
       " 'did',\n",
       " 'the',\n",
       " 'declin',\n",
       " 'of',\n",
       " 'coal',\n",
       " 'start?',\n",
       " 'it',\n",
       " 'start',\n",
       " 'when',\n",
       " 'natur',\n",
       " 'gas',\n",
       " 'took',\n",
       " 'off',\n",
       " 'that',\n",
       " 'start',\n",
       " 'to',\n",
       " 'begin',\n",
       " 'in',\n",
       " '(presid',\n",
       " 'georg',\n",
       " 'w.)',\n",
       " 'bush',\n",
       " 'administration.',\n",
       " 'energi',\n",
       " 'histori',\n",
       " 'job-accomplish']"
      ]
     },
     "execution_count": 19,
     "metadata": {},
     "output_type": "execute_result"
    }
   ],
   "source": [
    "df[\"text_stem\"][1]"
   ]
  },
  {
   "cell_type": "code",
   "execution_count": 20,
   "id": "3dfa0e4d-764e-48c7-90dd-07f1d5fe591e",
   "metadata": {},
   "outputs": [],
   "source": [
    "import pickle\n",
    "df.to_pickle('df_st_s.pk')"
   ]
  },
  {
   "cell_type": "code",
   "execution_count": 21,
   "id": "d4035856-6414-4ec4-a994-62dec309ce05",
   "metadata": {},
   "outputs": [
    {
     "data": {
      "text/plain": [
       "'generous'"
      ]
     },
     "execution_count": 21,
     "metadata": {},
     "output_type": "execute_result"
    }
   ],
   "source": [
    "en.stem(\"generously\")"
   ]
  },
  {
   "cell_type": "code",
   "execution_count": 22,
   "id": "591d92fe-0402-49f6-a551-185fc4b42729",
   "metadata": {},
   "outputs": [],
   "source": [
    "from nltk.stem import PorterStemmer"
   ]
  },
  {
   "cell_type": "code",
   "execution_count": 23,
   "id": "82597125-0c73-49f9-bc4e-edba3bf5ecab",
   "metadata": {},
   "outputs": [
    {
     "data": {
      "text/plain": [
       "'gener'"
      ]
     },
     "execution_count": 23,
     "metadata": {},
     "output_type": "execute_result"
    }
   ],
   "source": [
    "ps = PorterStemmer()\n",
    "ps.stem(\"generously\")"
   ]
  },
  {
   "cell_type": "code",
   "execution_count": null,
   "id": "d1388f00-4eee-40c7-9e78-6b0fc55884b7",
   "metadata": {},
   "outputs": [],
   "source": []
  }
 ],
 "metadata": {
  "kernelspec": {
   "display_name": "Python 3 (ipykernel)",
   "language": "python",
   "name": "python3"
  },
  "language_info": {
   "codemirror_mode": {
    "name": "ipython",
    "version": 3
   },
   "file_extension": ".py",
   "mimetype": "text/x-python",
   "name": "python",
   "nbconvert_exporter": "python",
   "pygments_lexer": "ipython3",
   "version": "3.9.7"
  }
 },
 "nbformat": 4,
 "nbformat_minor": 5
}
