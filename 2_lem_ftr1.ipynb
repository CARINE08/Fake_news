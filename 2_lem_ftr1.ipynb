{
 "cells": [
  {
   "cell_type": "code",
   "execution_count": 1,
   "id": "c8a83e63-c912-4d3e-97d0-9a5857a94e93",
   "metadata": {},
   "outputs": [
    {
     "name": "stdout",
     "output_type": "stream",
     "text": [
      "\u001b[38;5;3m⚠ As of spaCy v3.0, shortcuts like 'en' are deprecated. Please use the\n",
      "full pipeline package name 'en_core_web_sm' instead.\u001b[0m\n",
      "\u001b[38;5;2m✔ Download and installation successful\u001b[0m\n",
      "You can now load the package via spacy.load('en_core_web_sm')\n",
      "\n",
      "\u001b[38;5;1m✘ No compatible package found for 'en_core_news_md' (spaCy v3.2.4)\u001b[0m\n",
      "\n"
     ]
    }
   ],
   "source": [
    "!pip3 install spacy -q\n",
    "!python3 -m spacy download en -q\n",
    "!python3 -m spacy download en_core_news_md -q"
   ]
  },
  {
   "cell_type": "markdown",
   "id": "89afd8a7-1dbf-4520-b543-be81d403a6f9",
   "metadata": {},
   "source": [
    "### importer les differentes librairies"
   ]
  },
  {
   "cell_type": "code",
   "execution_count": 2,
   "id": "5501d1cd-1b19-4022-968f-dba94d678cfb",
   "metadata": {},
   "outputs": [],
   "source": [
    "import pandas as pd\n",
    "import spacy\n",
    "import matplotlib.pyplot as plt\n",
    "from urllib.parse import urlparse"
   ]
  },
  {
   "cell_type": "markdown",
   "id": "eb07c561-1cc9-43f1-8752-ad5e129dc619",
   "metadata": {},
   "source": [
    "### lire les données et transformer les colonnes majuscules en minuscules"
   ]
  },
  {
   "cell_type": "code",
   "execution_count": 3,
   "id": "0b41b753-a867-456f-9206-0de46d4d15f9",
   "metadata": {},
   "outputs": [
    {
     "data": {
      "text/html": [
       "<div>\n",
       "<style scoped>\n",
       "    .dataframe tbody tr th:only-of-type {\n",
       "        vertical-align: middle;\n",
       "    }\n",
       "\n",
       "    .dataframe tbody tr th {\n",
       "        vertical-align: top;\n",
       "    }\n",
       "\n",
       "    .dataframe thead th {\n",
       "        text-align: right;\n",
       "    }\n",
       "</style>\n",
       "<table border=\"1\" class=\"dataframe\">\n",
       "  <thead>\n",
       "    <tr style=\"text-align: right;\">\n",
       "      <th></th>\n",
       "      <th>labels</th>\n",
       "      <th>text</th>\n",
       "      <th>text_tag</th>\n",
       "    </tr>\n",
       "  </thead>\n",
       "  <tbody>\n",
       "    <tr>\n",
       "      <th>4806</th>\n",
       "      <td>2</td>\n",
       "      <td>Wisconsin does not have a deficit. Thanks to R...</td>\n",
       "      <td>deficit,state-budget,state-finances,taxes</td>\n",
       "    </tr>\n",
       "    <tr>\n",
       "      <th>2195</th>\n",
       "      <td>5</td>\n",
       "      <td>In 2009, Democratic Wisconsin state senators r...</td>\n",
       "      <td>labor,state-budget,taxes</td>\n",
       "    </tr>\n",
       "    <tr>\n",
       "      <th>9901</th>\n",
       "      <td>5</td>\n",
       "      <td>Georgia has recovered more than $60 million th...</td>\n",
       "      <td>medicaid</td>\n",
       "    </tr>\n",
       "    <tr>\n",
       "      <th>3321</th>\n",
       "      <td>2</td>\n",
       "      <td>Ive never supported legislation that invades p...</td>\n",
       "      <td>abortion,sexuality</td>\n",
       "    </tr>\n",
       "    <tr>\n",
       "      <th>7817</th>\n",
       "      <td>3</td>\n",
       "      <td>Since (welfare reform) was signed into law, th...</td>\n",
       "      <td>welfare</td>\n",
       "    </tr>\n",
       "    <tr>\n",
       "      <th>3734</th>\n",
       "      <td>2</td>\n",
       "      <td>Live cats have holes drilled into their skulls...</td>\n",
       "      <td>animals,education,health-care,public-health,sc...</td>\n",
       "    </tr>\n",
       "    <tr>\n",
       "      <th>3280</th>\n",
       "      <td>2</td>\n",
       "      <td>More than 80 percent of Georgians dont support...</td>\n",
       "      <td>guns</td>\n",
       "    </tr>\n",
       "    <tr>\n",
       "      <th>4348</th>\n",
       "      <td>0</td>\n",
       "      <td>In Texas public schools, we spend an average o...</td>\n",
       "      <td>education,state-budget,state-finances,states</td>\n",
       "    </tr>\n",
       "    <tr>\n",
       "      <th>1119</th>\n",
       "      <td>1</td>\n",
       "      <td>Says Ron Johnson has essentially done nothing ...</td>\n",
       "      <td>candidates-biography,drugs,homeland-security,i...</td>\n",
       "    </tr>\n",
       "    <tr>\n",
       "      <th>5903</th>\n",
       "      <td>3</td>\n",
       "      <td>Proposed cuts in the House farm bill mean 2 mi...</td>\n",
       "      <td>agriculture,hunger,welfare</td>\n",
       "    </tr>\n",
       "  </tbody>\n",
       "</table>\n",
       "</div>"
      ],
      "text/plain": [
       "      labels                                               text  \\\n",
       "4806       2  Wisconsin does not have a deficit. Thanks to R...   \n",
       "2195       5  In 2009, Democratic Wisconsin state senators r...   \n",
       "9901       5  Georgia has recovered more than $60 million th...   \n",
       "3321       2  Ive never supported legislation that invades p...   \n",
       "7817       3  Since (welfare reform) was signed into law, th...   \n",
       "3734       2  Live cats have holes drilled into their skulls...   \n",
       "3280       2  More than 80 percent of Georgians dont support...   \n",
       "4348       0  In Texas public schools, we spend an average o...   \n",
       "1119       1  Says Ron Johnson has essentially done nothing ...   \n",
       "5903       3  Proposed cuts in the House farm bill mean 2 mi...   \n",
       "\n",
       "                                               text_tag  \n",
       "4806          deficit,state-budget,state-finances,taxes  \n",
       "2195                           labor,state-budget,taxes  \n",
       "9901                                           medicaid  \n",
       "3321                                 abortion,sexuality  \n",
       "7817                                            welfare  \n",
       "3734  animals,education,health-care,public-health,sc...  \n",
       "3280                                               guns  \n",
       "4348       education,state-budget,state-finances,states  \n",
       "1119  candidates-biography,drugs,homeland-security,i...  \n",
       "5903                         agriculture,hunger,welfare  "
      ]
     },
     "execution_count": 3,
     "metadata": {},
     "output_type": "execute_result"
    }
   ],
   "source": [
    "df = pd.read_csv('/home/jovyan/Projects/projet_perso/train.csv')\n",
    "df.columns = df.columns.str.lower()\n",
    "df.sample(10)"
   ]
  },
  {
   "cell_type": "markdown",
   "id": "21a206ed-d6c9-497c-b583-a5b54bf4567d",
   "metadata": {},
   "source": [
    "### Filtrer les données par rapport aux labels qui sont différents de 4 (4 = Iconnu)"
   ]
  },
  {
   "cell_type": "code",
   "execution_count": 4,
   "id": "d3dd4b16-e50e-45d5-937b-ace725500329",
   "metadata": {},
   "outputs": [],
   "source": [
    "df = df[df[\"labels\"] != 4]"
   ]
  },
  {
   "cell_type": "markdown",
   "id": "88406ae4-ab85-4319-aeac-2c64b3e2f3b1",
   "metadata": {},
   "source": [
    "### supprimer les valeurs manquantes"
   ]
  },
  {
   "cell_type": "code",
   "execution_count": 5,
   "id": "fa7fc164-3b9b-4c9f-ba6e-a51d8e39dabe",
   "metadata": {},
   "outputs": [
    {
     "data": {
      "text/plain": [
       "(9399, 3)"
      ]
     },
     "execution_count": 5,
     "metadata": {},
     "output_type": "execute_result"
    }
   ],
   "source": [
    "df.isnull().any()\n",
    "df[\"text_tag\"].isnull().sum()\n",
    "df=df.dropna()\n",
    "df.shape"
   ]
  },
  {
   "cell_type": "markdown",
   "id": "91d241a5-f672-4463-b5ac-67dbb94fa584",
   "metadata": {},
   "source": [
    "### transformer les labels multivariés en bivariés ( 1 = Fake news, 0 = vrai info)"
   ]
  },
  {
   "cell_type": "code",
   "execution_count": 6,
   "id": "da04eb4b-c3ea-4b3c-83d6-a1a60a1a86bf",
   "metadata": {},
   "outputs": [
    {
     "data": {
      "text/plain": [
       "1    5761\n",
       "0    3638\n",
       "Name: labels, dtype: int64"
      ]
     },
     "execution_count": 6,
     "metadata": {},
     "output_type": "execute_result"
    }
   ],
   "source": [
    "df[\"labels\"] =df[\"labels\"].apply(lambda x : 0 if x == 3 or x == 5\n",
    "                       else 1)\n",
    "df[\"labels\"].value_counts()"
   ]
  },
  {
   "cell_type": "code",
   "execution_count": 7,
   "id": "a207975c-14c1-49e4-bb75-972f543b8ad2",
   "metadata": {},
   "outputs": [
    {
     "data": {
      "text/html": [
       "<div>\n",
       "<style scoped>\n",
       "    .dataframe tbody tr th:only-of-type {\n",
       "        vertical-align: middle;\n",
       "    }\n",
       "\n",
       "    .dataframe tbody tr th {\n",
       "        vertical-align: top;\n",
       "    }\n",
       "\n",
       "    .dataframe thead th {\n",
       "        text-align: right;\n",
       "    }\n",
       "</style>\n",
       "<table border=\"1\" class=\"dataframe\">\n",
       "  <thead>\n",
       "    <tr style=\"text-align: right;\">\n",
       "      <th></th>\n",
       "      <th>labels</th>\n",
       "      <th>text</th>\n",
       "      <th>text_tag</th>\n",
       "    </tr>\n",
       "  </thead>\n",
       "  <tbody>\n",
       "    <tr>\n",
       "      <th>4543</th>\n",
       "      <td>0</td>\n",
       "      <td>Over the past 35 years, Florida families have ...</td>\n",
       "      <td>environment,housing,states,weather</td>\n",
       "    </tr>\n",
       "    <tr>\n",
       "      <th>9755</th>\n",
       "      <td>0</td>\n",
       "      <td>Obama promised to cut the deficit by half by t...</td>\n",
       "      <td>deficit,message-machine-2012</td>\n",
       "    </tr>\n",
       "    <tr>\n",
       "      <th>1279</th>\n",
       "      <td>1</td>\n",
       "      <td>Unemployment among Oregon high school graduate...</td>\n",
       "      <td>economy,jobs,workers</td>\n",
       "    </tr>\n",
       "    <tr>\n",
       "      <th>7057</th>\n",
       "      <td>0</td>\n",
       "      <td>30,000 Arizonans may have no choice on Afforda...</td>\n",
       "      <td>health-care</td>\n",
       "    </tr>\n",
       "    <tr>\n",
       "      <th>9687</th>\n",
       "      <td>0</td>\n",
       "      <td>Then-Sen. Barack Obama refused to raise the de...</td>\n",
       "      <td>candidates-biography,federal-budget</td>\n",
       "    </tr>\n",
       "    <tr>\n",
       "      <th>9302</th>\n",
       "      <td>0</td>\n",
       "      <td>Says Connie Mack was the only member of the Fl...</td>\n",
       "      <td>space,voting-record</td>\n",
       "    </tr>\n",
       "    <tr>\n",
       "      <th>7169</th>\n",
       "      <td>0</td>\n",
       "      <td>The Buffett rule raises virtually no money, ma...</td>\n",
       "      <td>deficit,economy,federal-budget,taxes</td>\n",
       "    </tr>\n",
       "    <tr>\n",
       "      <th>1236</th>\n",
       "      <td>1</td>\n",
       "      <td>Gov. Chris Christie owes the state money for a...</td>\n",
       "      <td>state-budget</td>\n",
       "    </tr>\n",
       "    <tr>\n",
       "      <th>8537</th>\n",
       "      <td>0</td>\n",
       "      <td>For every $1 spent on mitigation, $4 in post-s...</td>\n",
       "      <td>government-efficiency</td>\n",
       "    </tr>\n",
       "    <tr>\n",
       "      <th>8596</th>\n",
       "      <td>0</td>\n",
       "      <td>@Jorge_Elorza still think your plan is safe? R...</td>\n",
       "      <td>public-safety,unions</td>\n",
       "    </tr>\n",
       "  </tbody>\n",
       "</table>\n",
       "</div>"
      ],
      "text/plain": [
       "      labels                                               text  \\\n",
       "4543       0  Over the past 35 years, Florida families have ...   \n",
       "9755       0  Obama promised to cut the deficit by half by t...   \n",
       "1279       1  Unemployment among Oregon high school graduate...   \n",
       "7057       0  30,000 Arizonans may have no choice on Afforda...   \n",
       "9687       0  Then-Sen. Barack Obama refused to raise the de...   \n",
       "9302       0  Says Connie Mack was the only member of the Fl...   \n",
       "7169       0  The Buffett rule raises virtually no money, ma...   \n",
       "1236       1  Gov. Chris Christie owes the state money for a...   \n",
       "8537       0  For every $1 spent on mitigation, $4 in post-s...   \n",
       "8596       0  @Jorge_Elorza still think your plan is safe? R...   \n",
       "\n",
       "                                  text_tag  \n",
       "4543    environment,housing,states,weather  \n",
       "9755          deficit,message-machine-2012  \n",
       "1279                  economy,jobs,workers  \n",
       "7057                           health-care  \n",
       "9687   candidates-biography,federal-budget  \n",
       "9302                   space,voting-record  \n",
       "7169  deficit,economy,federal-budget,taxes  \n",
       "1236                          state-budget  \n",
       "8537                 government-efficiency  \n",
       "8596                  public-safety,unions  "
      ]
     },
     "execution_count": 7,
     "metadata": {},
     "output_type": "execute_result"
    }
   ],
   "source": [
    "df.sample(10)"
   ]
  },
  {
   "cell_type": "markdown",
   "id": "48712c75-7c76-4e71-bdb7-7600156b39db",
   "metadata": {},
   "source": [
    "### transformer tous les tag_text majuscules en minuscules"
   ]
  },
  {
   "cell_type": "code",
   "execution_count": 8,
   "id": "9b7102ae-1e1a-4338-badb-9575e2656f33",
   "metadata": {},
   "outputs": [],
   "source": [
    "df[\"text_tag\"] = df[\"text_tag\"].fillna(\"\").str.lower()"
   ]
  },
  {
   "cell_type": "code",
   "execution_count": 9,
   "id": "b14ed93c-55a1-4fd0-823c-ba59a16d705b",
   "metadata": {},
   "outputs": [
    {
     "data": {
      "text/plain": [
       "array(['abortion', 'energy,history,job-accomplishments', 'foreign-policy',\n",
       "       ..., 'animals,elections', 'retirement,social-security',\n",
       "       'florida,foreign-policy'], dtype=object)"
      ]
     },
     "execution_count": 9,
     "metadata": {},
     "output_type": "execute_result"
    }
   ],
   "source": [
    "tags = df.text_tag.unique()\n",
    "tags"
   ]
  },
  {
   "cell_type": "markdown",
   "id": "832901ff-12e3-43b8-b1aa-f52de622d2bc",
   "metadata": {},
   "source": [
    "### rajouter les tag_text au text"
   ]
  },
  {
   "cell_type": "code",
   "execution_count": 10,
   "id": "d9a56b2b-8402-42df-a59d-532da964b3ca",
   "metadata": {},
   "outputs": [
    {
     "data": {
      "text/html": [
       "<div>\n",
       "<style scoped>\n",
       "    .dataframe tbody tr th:only-of-type {\n",
       "        vertical-align: middle;\n",
       "    }\n",
       "\n",
       "    .dataframe tbody tr th {\n",
       "        vertical-align: top;\n",
       "    }\n",
       "\n",
       "    .dataframe thead th {\n",
       "        text-align: right;\n",
       "    }\n",
       "</style>\n",
       "<table border=\"1\" class=\"dataframe\">\n",
       "  <thead>\n",
       "    <tr style=\"text-align: right;\">\n",
       "      <th></th>\n",
       "      <th>labels</th>\n",
       "      <th>text</th>\n",
       "      <th>text_tag</th>\n",
       "    </tr>\n",
       "  </thead>\n",
       "  <tbody>\n",
       "    <tr>\n",
       "      <th>0</th>\n",
       "      <td>1</td>\n",
       "      <td>Says the Annies List political group supports ...</td>\n",
       "      <td>abortion</td>\n",
       "    </tr>\n",
       "    <tr>\n",
       "      <th>1</th>\n",
       "      <td>1</td>\n",
       "      <td>When did the decline of coal start? It started...</td>\n",
       "      <td>energy,history,job-accomplishments</td>\n",
       "    </tr>\n",
       "    <tr>\n",
       "      <th>2</th>\n",
       "      <td>0</td>\n",
       "      <td>Hillary Clinton agrees with John McCain \"by vo...</td>\n",
       "      <td>foreign-policy</td>\n",
       "    </tr>\n",
       "    <tr>\n",
       "      <th>3</th>\n",
       "      <td>1</td>\n",
       "      <td>Health care reform legislation is likely to ma...</td>\n",
       "      <td>health-care</td>\n",
       "    </tr>\n",
       "    <tr>\n",
       "      <th>4</th>\n",
       "      <td>1</td>\n",
       "      <td>The economic turnaround started at the end of ...</td>\n",
       "      <td>economy,jobs</td>\n",
       "    </tr>\n",
       "    <tr>\n",
       "      <th>...</th>\n",
       "      <td>...</td>\n",
       "      <td>...</td>\n",
       "      <td>...</td>\n",
       "    </tr>\n",
       "    <tr>\n",
       "      <th>10234</th>\n",
       "      <td>1</td>\n",
       "      <td>Under the ruling of the Supreme Court, any lob...</td>\n",
       "      <td>corporations,elections</td>\n",
       "    </tr>\n",
       "    <tr>\n",
       "      <th>10235</th>\n",
       "      <td>0</td>\n",
       "      <td>There are a larger number of shark attacks in ...</td>\n",
       "      <td>animals,elections</td>\n",
       "    </tr>\n",
       "    <tr>\n",
       "      <th>10236</th>\n",
       "      <td>0</td>\n",
       "      <td>Democrats have now become the party of the [At...</td>\n",
       "      <td>elections</td>\n",
       "    </tr>\n",
       "    <tr>\n",
       "      <th>10237</th>\n",
       "      <td>1</td>\n",
       "      <td>Says an alternative to Social Security that op...</td>\n",
       "      <td>retirement,social-security</td>\n",
       "    </tr>\n",
       "    <tr>\n",
       "      <th>10238</th>\n",
       "      <td>1</td>\n",
       "      <td>On lifting the U.S. Cuban embargo and allowing...</td>\n",
       "      <td>florida,foreign-policy</td>\n",
       "    </tr>\n",
       "  </tbody>\n",
       "</table>\n",
       "<p>9399 rows × 3 columns</p>\n",
       "</div>"
      ],
      "text/plain": [
       "       labels                                               text  \\\n",
       "0           1  Says the Annies List political group supports ...   \n",
       "1           1  When did the decline of coal start? It started...   \n",
       "2           0  Hillary Clinton agrees with John McCain \"by vo...   \n",
       "3           1  Health care reform legislation is likely to ma...   \n",
       "4           1  The economic turnaround started at the end of ...   \n",
       "...       ...                                                ...   \n",
       "10234       1  Under the ruling of the Supreme Court, any lob...   \n",
       "10235       0  There are a larger number of shark attacks in ...   \n",
       "10236       0  Democrats have now become the party of the [At...   \n",
       "10237       1  Says an alternative to Social Security that op...   \n",
       "10238       1  On lifting the U.S. Cuban embargo and allowing...   \n",
       "\n",
       "                                 text_tag  \n",
       "0                                abortion  \n",
       "1      energy,history,job-accomplishments  \n",
       "2                          foreign-policy  \n",
       "3                             health-care  \n",
       "4                            economy,jobs  \n",
       "...                                   ...  \n",
       "10234              corporations,elections  \n",
       "10235                   animals,elections  \n",
       "10236                           elections  \n",
       "10237          retirement,social-security  \n",
       "10238              florida,foreign-policy  \n",
       "\n",
       "[9399 rows x 3 columns]"
      ]
     },
     "execution_count": 10,
     "metadata": {},
     "output_type": "execute_result"
    }
   ],
   "source": [
    "df"
   ]
  },
  {
   "cell_type": "code",
   "execution_count": 11,
   "id": "0b8596c2-1142-4361-aa9b-7b3757c2e588",
   "metadata": {},
   "outputs": [],
   "source": [
    "df[\"text\"] = df[\"text\"] + \" \" + df[\"text_tag\"].str.replace(\",\", \" \")"
   ]
  },
  {
   "cell_type": "code",
   "execution_count": 12,
   "id": "d1a510f2-a33c-4239-9a21-5e73c8b7cfc5",
   "metadata": {},
   "outputs": [
    {
     "data": {
      "text/plain": [
       "'Two-thirds of Wisconsinites receiving unemployment checks are not required to search for work due to current work search exemptions. government-regulation jobs poverty welfare'"
      ]
     },
     "execution_count": 12,
     "metadata": {},
     "output_type": "execute_result"
    }
   ],
   "source": [
    "df[\"text\"][110]"
   ]
  },
  {
   "cell_type": "markdown",
   "id": "c30efd51-ad5b-41ac-8a2e-7c9d6b98df4d",
   "metadata": {},
   "source": [
    "supprimer la colonnes text_tag"
   ]
  },
  {
   "cell_type": "code",
   "execution_count": 13,
   "id": "381e3fb1-4317-4cb8-98d1-580df1baef44",
   "metadata": {},
   "outputs": [
    {
     "data": {
      "text/html": [
       "<div>\n",
       "<style scoped>\n",
       "    .dataframe tbody tr th:only-of-type {\n",
       "        vertical-align: middle;\n",
       "    }\n",
       "\n",
       "    .dataframe tbody tr th {\n",
       "        vertical-align: top;\n",
       "    }\n",
       "\n",
       "    .dataframe thead th {\n",
       "        text-align: right;\n",
       "    }\n",
       "</style>\n",
       "<table border=\"1\" class=\"dataframe\">\n",
       "  <thead>\n",
       "    <tr style=\"text-align: right;\">\n",
       "      <th></th>\n",
       "      <th>labels</th>\n",
       "      <th>text</th>\n",
       "    </tr>\n",
       "  </thead>\n",
       "  <tbody>\n",
       "    <tr>\n",
       "      <th>0</th>\n",
       "      <td>1</td>\n",
       "      <td>Says the Annies List political group supports ...</td>\n",
       "    </tr>\n",
       "    <tr>\n",
       "      <th>1</th>\n",
       "      <td>1</td>\n",
       "      <td>When did the decline of coal start? It started...</td>\n",
       "    </tr>\n",
       "    <tr>\n",
       "      <th>2</th>\n",
       "      <td>0</td>\n",
       "      <td>Hillary Clinton agrees with John McCain \"by vo...</td>\n",
       "    </tr>\n",
       "    <tr>\n",
       "      <th>3</th>\n",
       "      <td>1</td>\n",
       "      <td>Health care reform legislation is likely to ma...</td>\n",
       "    </tr>\n",
       "    <tr>\n",
       "      <th>4</th>\n",
       "      <td>1</td>\n",
       "      <td>The economic turnaround started at the end of ...</td>\n",
       "    </tr>\n",
       "  </tbody>\n",
       "</table>\n",
       "</div>"
      ],
      "text/plain": [
       "   labels                                               text\n",
       "0       1  Says the Annies List political group supports ...\n",
       "1       1  When did the decline of coal start? It started...\n",
       "2       0  Hillary Clinton agrees with John McCain \"by vo...\n",
       "3       1  Health care reform legislation is likely to ma...\n",
       "4       1  The economic turnaround started at the end of ..."
      ]
     },
     "execution_count": 13,
     "metadata": {},
     "output_type": "execute_result"
    }
   ],
   "source": [
    "df = df.drop(columns = \"text_tag\")\n",
    "df.head()"
   ]
  },
  {
   "cell_type": "code",
   "execution_count": 14,
   "id": "0f1b9889-62be-491c-a23d-ebc48ab19be6",
   "metadata": {},
   "outputs": [
    {
     "data": {
      "text/plain": [
       "'When did the decline of coal start? It started when natural gas took off that started to begin in (President George W.) Bushs administration. energy history job-accomplishments'"
      ]
     },
     "execution_count": 14,
     "metadata": {},
     "output_type": "execute_result"
    }
   ],
   "source": [
    "df[\"text\"][1]"
   ]
  },
  {
   "cell_type": "markdown",
   "id": "1b22dde8-c90d-4260-a560-b77ed889c4a2",
   "metadata": {},
   "source": [
    "### preprocessing à l'aide de spacy avec les spécificités de la langues anglais"
   ]
  },
  {
   "cell_type": "code",
   "execution_count": 15,
   "id": "99e7f308-10d6-45d9-9d88-fec8e5859fea",
   "metadata": {},
   "outputs": [],
   "source": [
    "import en_core_web_sm\n",
    "nlp = en_core_web_sm.load()"
   ]
  },
  {
   "cell_type": "markdown",
   "id": "8b3e6819-6768-4895-8de4-e77f565516ee",
   "metadata": {},
   "source": [
    "### transformer notre colonne text en un objet nlp"
   ]
  },
  {
   "cell_type": "code",
   "execution_count": 16,
   "id": "c8e6cf50-f647-4bb0-bbbb-2e5ee14fc3f2",
   "metadata": {},
   "outputs": [
    {
     "data": {
      "text/plain": [
       "0        (Says, the, Annies, List, political, group, su...\n",
       "1        (When, did, the, decline, of, coal, start, ?, ...\n",
       "2        (Hillary, Clinton, agrees, with, John, McCain,...\n",
       "3        (Health, care, reform, legislation, is, likely...\n",
       "4        (The, economic, turnaround, started, at, the, ...\n",
       "                               ...                        \n",
       "10234    (Under, the, ruling, of, the, Supreme, Court, ...\n",
       "10235    (There, are, a, larger, number, of, shark, att...\n",
       "10236    (Democrats, have, now, become, the, party, of,...\n",
       "10237    (Says, an, alternative, to, Social, Security, ...\n",
       "10238    (On, lifting, the, U.S., Cuban, embargo, and, ...\n",
       "Name: text_tokens, Length: 9399, dtype: object"
      ]
     },
     "execution_count": 16,
     "metadata": {},
     "output_type": "execute_result"
    }
   ],
   "source": [
    "df[\"text_tokens\"] = df.text.map(lambda x: nlp(x))\n",
    "df[\"text_tokens\"]"
   ]
  },
  {
   "cell_type": "markdown",
   "id": "097680d5-c543-4907-b575-e15e481d53ba",
   "metadata": {},
   "source": [
    "### transformations en lemmes et en pos via spacy"
   ]
  },
  {
   "cell_type": "code",
   "execution_count": 17,
   "id": "652ce04f-5033-42b0-9203-0bc530d36c54",
   "metadata": {},
   "outputs": [
    {
     "data": {
      "text/html": [
       "<div>\n",
       "<style scoped>\n",
       "    .dataframe tbody tr th:only-of-type {\n",
       "        vertical-align: middle;\n",
       "    }\n",
       "\n",
       "    .dataframe tbody tr th {\n",
       "        vertical-align: top;\n",
       "    }\n",
       "\n",
       "    .dataframe thead th {\n",
       "        text-align: right;\n",
       "    }\n",
       "</style>\n",
       "<table border=\"1\" class=\"dataframe\">\n",
       "  <thead>\n",
       "    <tr style=\"text-align: right;\">\n",
       "      <th></th>\n",
       "      <th>lemma</th>\n",
       "      <th>pos</th>\n",
       "      <th>text</th>\n",
       "    </tr>\n",
       "  </thead>\n",
       "  <tbody>\n",
       "    <tr>\n",
       "      <th>0</th>\n",
       "      <td>say</td>\n",
       "      <td>VERB</td>\n",
       "      <td>Says</td>\n",
       "    </tr>\n",
       "    <tr>\n",
       "      <th>1</th>\n",
       "      <td>the</td>\n",
       "      <td>DET</td>\n",
       "      <td>the</td>\n",
       "    </tr>\n",
       "    <tr>\n",
       "      <th>2</th>\n",
       "      <td>Annies</td>\n",
       "      <td>PROPN</td>\n",
       "      <td>Annies</td>\n",
       "    </tr>\n",
       "    <tr>\n",
       "      <th>3</th>\n",
       "      <td>List</td>\n",
       "      <td>PROPN</td>\n",
       "      <td>List</td>\n",
       "    </tr>\n",
       "    <tr>\n",
       "      <th>4</th>\n",
       "      <td>political</td>\n",
       "      <td>ADJ</td>\n",
       "      <td>political</td>\n",
       "    </tr>\n",
       "  </tbody>\n",
       "</table>\n",
       "</div>"
      ],
      "text/plain": [
       "       lemma    pos       text\n",
       "0        say   VERB       Says\n",
       "1        the    DET        the\n",
       "2     Annies  PROPN     Annies\n",
       "3       List  PROPN       List\n",
       "4  political    ADJ  political"
      ]
     },
     "execution_count": 17,
     "metadata": {},
     "output_type": "execute_result"
    }
   ],
   "source": [
    "tokens = df.text_tokens.tolist()\n",
    "tokens = [(i.lemma_, i.pos_, i.text) for s in tokens for i in s]\n",
    "tokens = pd.DataFrame(tokens, columns = [\"lemma\", \"pos\", \"text\"])\n",
    "tokens.head()"
   ]
  },
  {
   "cell_type": "code",
   "execution_count": 18,
   "id": "f4d4ef8f-0d4e-4d09-ab7c-768b69c0e14f",
   "metadata": {},
   "outputs": [
    {
     "data": {
      "text/plain": [
       "(232113, 3)"
      ]
     },
     "execution_count": 18,
     "metadata": {},
     "output_type": "execute_result"
    }
   ],
   "source": [
    "tokens.shape"
   ]
  },
  {
   "cell_type": "code",
   "execution_count": 19,
   "id": "1cce6a2d-4796-4745-88fe-3dd2f49aa515",
   "metadata": {},
   "outputs": [
    {
     "name": "stdout",
     "output_type": "stream",
     "text": [
      "say VERB Says\n",
      "the DET the\n",
      "Annies PROPN Annies\n",
      "List PROPN List\n",
      "political ADJ political\n",
      "group NOUN group\n",
      "support VERB supports\n",
      "third ADJ third\n",
      "- PUNCT -\n",
      "trimester NOUN trimester\n",
      "abortion NOUN abortions\n",
      "on ADP on\n",
      "demand NOUN demand\n",
      ". PUNCT .\n",
      "abortion NOUN abortion\n"
     ]
    }
   ],
   "source": [
    "for tok in df.text_tokens.iloc[0]:\n",
    "    print(tok.lemma_, tok.pos_, tok.text)"
   ]
  },
  {
   "cell_type": "code",
   "execution_count": 20,
   "id": "002dcca7-00a1-4205-bcb6-616ec7e640b0",
   "metadata": {},
   "outputs": [
    {
     "data": {
      "text/plain": [
       "array(['VERB', 'DET', 'PROPN', 'ADJ', 'NOUN', 'PUNCT', 'ADP', 'SCONJ',\n",
       "       'PRON', 'PART', 'AUX', 'NUM', 'ADV', 'SYM', 'CCONJ', 'INTJ',\n",
       "       'SPACE', 'X'], dtype=object)"
      ]
     },
     "execution_count": 20,
     "metadata": {},
     "output_type": "execute_result"
    }
   ],
   "source": [
    "tokens.pos.unique()"
   ]
  },
  {
   "cell_type": "markdown",
   "id": "ba7c7e2c-b946-46b9-b3e0-f205ac23d100",
   "metadata": {},
   "source": [
    "### filtrer par pos\n",
    "#### ici nous avons choisir de filtrer par les pos suivants verb/nom/adj/adv/pron/aux"
   ]
  },
  {
   "cell_type": "code",
   "execution_count": 21,
   "id": "f689b990-6a3c-40ba-9332-22a85fc695eb",
   "metadata": {},
   "outputs": [],
   "source": [
    "def lemmas_filtered_on_pos(tokens, pos_list=[\"VERB\", \"NOUN\", \"ADJ\", \"ADV\",'PRON','AUX','PROPN','ADP']):\n",
    "    return \" \".join([t.lemma_ for t in tokens if t.pos_ in pos_list])"
   ]
  },
  {
   "cell_type": "code",
   "execution_count": 22,
   "id": "9cf05ff9-75d7-47db-b8e2-4a440bfc1d64",
   "metadata": {},
   "outputs": [],
   "source": [
    "df[\"text_cleaned\"] = df.text_tokens.map(lemmas_filtered_on_pos)"
   ]
  },
  {
   "cell_type": "code",
   "execution_count": 23,
   "id": "9776af42-741a-4ea8-b888-bc2cd6f3eedc",
   "metadata": {},
   "outputs": [
    {
     "data": {
      "text/plain": [
       "'say Annies List political group support third trimester abortion on demand abortion'"
      ]
     },
     "execution_count": 23,
     "metadata": {},
     "output_type": "execute_result"
    }
   ],
   "source": [
    "df[\"text_cleaned\"][0]"
   ]
  },
  {
   "cell_type": "code",
   "execution_count": 24,
   "id": "dbba32cd-86d2-448f-a267-e80ac0ce8062",
   "metadata": {},
   "outputs": [
    {
     "data": {
      "text/plain": [
       "9399"
      ]
     },
     "execution_count": 24,
     "metadata": {},
     "output_type": "execute_result"
    }
   ],
   "source": [
    "len(df[\"text_cleaned\"])"
   ]
  },
  {
   "cell_type": "code",
   "execution_count": 25,
   "id": "9be4ebcc-1c0e-4116-aa06-4b9d89a4830e",
   "metadata": {},
   "outputs": [
    {
     "data": {
      "text/html": [
       "<div>\n",
       "<style scoped>\n",
       "    .dataframe tbody tr th:only-of-type {\n",
       "        vertical-align: middle;\n",
       "    }\n",
       "\n",
       "    .dataframe tbody tr th {\n",
       "        vertical-align: top;\n",
       "    }\n",
       "\n",
       "    .dataframe thead th {\n",
       "        text-align: right;\n",
       "    }\n",
       "</style>\n",
       "<table border=\"1\" class=\"dataframe\">\n",
       "  <thead>\n",
       "    <tr style=\"text-align: right;\">\n",
       "      <th></th>\n",
       "      <th>labels</th>\n",
       "      <th>text</th>\n",
       "      <th>text_tokens</th>\n",
       "      <th>text_cleaned</th>\n",
       "    </tr>\n",
       "  </thead>\n",
       "  <tbody>\n",
       "    <tr>\n",
       "      <th>0</th>\n",
       "      <td>1</td>\n",
       "      <td>Says the Annies List political group supports ...</td>\n",
       "      <td>(Says, the, Annies, List, political, group, su...</td>\n",
       "      <td>say Annies List political group support third ...</td>\n",
       "    </tr>\n",
       "    <tr>\n",
       "      <th>1</th>\n",
       "      <td>1</td>\n",
       "      <td>When did the decline of coal start? It started...</td>\n",
       "      <td>(When, did, the, decline, of, coal, start, ?, ...</td>\n",
       "      <td>do decline of coal start it start natural gas ...</td>\n",
       "    </tr>\n",
       "    <tr>\n",
       "      <th>2</th>\n",
       "      <td>0</td>\n",
       "      <td>Hillary Clinton agrees with John McCain \"by vo...</td>\n",
       "      <td>(Hillary, Clinton, agrees, with, John, McCain,...</td>\n",
       "      <td>Hillary Clinton agree with John McCain by vote...</td>\n",
       "    </tr>\n",
       "    <tr>\n",
       "      <th>3</th>\n",
       "      <td>1</td>\n",
       "      <td>Health care reform legislation is likely to ma...</td>\n",
       "      <td>(Health, care, reform, legislation, is, likely...</td>\n",
       "      <td>health care reform legislation be likely manda...</td>\n",
       "    </tr>\n",
       "    <tr>\n",
       "      <th>4</th>\n",
       "      <td>1</td>\n",
       "      <td>The economic turnaround started at the end of ...</td>\n",
       "      <td>(The, economic, turnaround, started, at, the, ...</td>\n",
       "      <td>economic turnaround start at end of my term ec...</td>\n",
       "    </tr>\n",
       "  </tbody>\n",
       "</table>\n",
       "</div>"
      ],
      "text/plain": [
       "   labels                                               text  \\\n",
       "0       1  Says the Annies List political group supports ...   \n",
       "1       1  When did the decline of coal start? It started...   \n",
       "2       0  Hillary Clinton agrees with John McCain \"by vo...   \n",
       "3       1  Health care reform legislation is likely to ma...   \n",
       "4       1  The economic turnaround started at the end of ...   \n",
       "\n",
       "                                         text_tokens  \\\n",
       "0  (Says, the, Annies, List, political, group, su...   \n",
       "1  (When, did, the, decline, of, coal, start, ?, ...   \n",
       "2  (Hillary, Clinton, agrees, with, John, McCain,...   \n",
       "3  (Health, care, reform, legislation, is, likely...   \n",
       "4  (The, economic, turnaround, started, at, the, ...   \n",
       "\n",
       "                                        text_cleaned  \n",
       "0  say Annies List political group support third ...  \n",
       "1  do decline of coal start it start natural gas ...  \n",
       "2  Hillary Clinton agree with John McCain by vote...  \n",
       "3  health care reform legislation be likely manda...  \n",
       "4  economic turnaround start at end of my term ec...  "
      ]
     },
     "execution_count": 25,
     "metadata": {},
     "output_type": "execute_result"
    }
   ],
   "source": [
    "df.head()"
   ]
  },
  {
   "cell_type": "code",
   "execution_count": 28,
   "id": "c2f0b665-5f88-4933-b4c5-17e9a8f0b56b",
   "metadata": {},
   "outputs": [
    {
     "data": {
      "text/plain": [
       "9605"
      ]
     },
     "execution_count": 28,
     "metadata": {},
     "output_type": "execute_result"
    }
   ],
   "source": [
    "all_text = \" \".join(df[\"text_cleaned\"].tolist())\n",
    "len(set(all_text.split(\" \")))"
   ]
  },
  {
   "cell_type": "code",
   "execution_count": 27,
   "id": "3dfa0e4d-764e-48c7-90dd-07f1d5fe591e",
   "metadata": {},
   "outputs": [],
   "source": [
    "import pickle\n",
    "df.to_pickle('df_lem_ftr1.pk')"
   ]
  },
  {
   "cell_type": "code",
   "execution_count": null,
   "id": "1237158c-195d-4045-be24-541976bd4877",
   "metadata": {},
   "outputs": [],
   "source": []
  }
 ],
 "metadata": {
  "kernelspec": {
   "display_name": "Python 3 (ipykernel)",
   "language": "python",
   "name": "python3"
  },
  "language_info": {
   "codemirror_mode": {
    "name": "ipython",
    "version": 3
   },
   "file_extension": ".py",
   "mimetype": "text/x-python",
   "name": "python",
   "nbconvert_exporter": "python",
   "pygments_lexer": "ipython3",
   "version": "3.9.7"
  }
 },
 "nbformat": 4,
 "nbformat_minor": 5
}
