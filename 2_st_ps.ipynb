{
 "cells": [
  {
   "cell_type": "code",
   "execution_count": 1,
   "id": "c8a83e63-c912-4d3e-97d0-9a5857a94e93",
   "metadata": {},
   "outputs": [
    {
     "name": "stdout",
     "output_type": "stream",
     "text": [
      "\u001b[38;5;3m⚠ As of spaCy v3.0, shortcuts like 'en' are deprecated. Please use the\n",
      "full pipeline package name 'en_core_web_sm' instead.\u001b[0m\n",
      "\u001b[38;5;2m✔ Download and installation successful\u001b[0m\n",
      "You can now load the package via spacy.load('en_core_web_sm')\n",
      "\n",
      "\u001b[38;5;1m✘ No compatible package found for 'en_core_news_md' (spaCy v3.2.4)\u001b[0m\n",
      "\n"
     ]
    }
   ],
   "source": [
    "!pip3 install spacy -q\n",
    "!python3 -m spacy download en -q\n",
    "!python3 -m spacy download en_core_news_md -q"
   ]
  },
  {
   "cell_type": "markdown",
   "id": "89afd8a7-1dbf-4520-b543-be81d403a6f9",
   "metadata": {},
   "source": [
    "### importer les differentes librairies"
   ]
  },
  {
   "cell_type": "code",
   "execution_count": 2,
   "id": "5501d1cd-1b19-4022-968f-dba94d678cfb",
   "metadata": {},
   "outputs": [],
   "source": [
    "import pandas as pd\n",
    "import spacy\n",
    "import matplotlib.pyplot as plt\n",
    "from urllib.parse import urlparse"
   ]
  },
  {
   "cell_type": "markdown",
   "id": "eb07c561-1cc9-43f1-8752-ad5e129dc619",
   "metadata": {},
   "source": [
    "### lire nos données et transformer les colonnes majuscules en minuscules"
   ]
  },
  {
   "cell_type": "code",
   "execution_count": 3,
   "id": "0b41b753-a867-456f-9206-0de46d4d15f9",
   "metadata": {},
   "outputs": [
    {
     "data": {
      "text/html": [
       "<div>\n",
       "<style scoped>\n",
       "    .dataframe tbody tr th:only-of-type {\n",
       "        vertical-align: middle;\n",
       "    }\n",
       "\n",
       "    .dataframe tbody tr th {\n",
       "        vertical-align: top;\n",
       "    }\n",
       "\n",
       "    .dataframe thead th {\n",
       "        text-align: right;\n",
       "    }\n",
       "</style>\n",
       "<table border=\"1\" class=\"dataframe\">\n",
       "  <thead>\n",
       "    <tr style=\"text-align: right;\">\n",
       "      <th></th>\n",
       "      <th>labels</th>\n",
       "      <th>text</th>\n",
       "      <th>text_tag</th>\n",
       "    </tr>\n",
       "  </thead>\n",
       "  <tbody>\n",
       "    <tr>\n",
       "      <th>7356</th>\n",
       "      <td>2</td>\n",
       "      <td>Jim Renacci supports a national sales tax of 2...</td>\n",
       "      <td>federal-budget,message-machine,taxes</td>\n",
       "    </tr>\n",
       "    <tr>\n",
       "      <th>10232</th>\n",
       "      <td>2</td>\n",
       "      <td>Eighty percent of the net new jobs created in ...</td>\n",
       "      <td>economy,jobs</td>\n",
       "    </tr>\n",
       "    <tr>\n",
       "      <th>4531</th>\n",
       "      <td>5</td>\n",
       "      <td>More women were killed by their husbands or bo...</td>\n",
       "      <td>crime,terrorism,women</td>\n",
       "    </tr>\n",
       "    <tr>\n",
       "      <th>8616</th>\n",
       "      <td>1</td>\n",
       "      <td>Abortion services are well over 90 percent of ...</td>\n",
       "      <td>abortion,federal-budget</td>\n",
       "    </tr>\n",
       "    <tr>\n",
       "      <th>3288</th>\n",
       "      <td>1</td>\n",
       "      <td>Says large majority of Republicans believe Oba...</td>\n",
       "      <td>candidates-biography,polls</td>\n",
       "    </tr>\n",
       "    <tr>\n",
       "      <th>7491</th>\n",
       "      <td>2</td>\n",
       "      <td>We should be seeing numbers in the 500,000 job...</td>\n",
       "      <td>economy,history,jobs</td>\n",
       "    </tr>\n",
       "    <tr>\n",
       "      <th>1560</th>\n",
       "      <td>5</td>\n",
       "      <td>Rhode Islanders pay among the highest auto rep...</td>\n",
       "      <td>economy,market-regulation,small-business,states</td>\n",
       "    </tr>\n",
       "    <tr>\n",
       "      <th>5233</th>\n",
       "      <td>0</td>\n",
       "      <td>Tuition-free public universities and colleges ...</td>\n",
       "      <td>education,history</td>\n",
       "    </tr>\n",
       "    <tr>\n",
       "      <th>8021</th>\n",
       "      <td>1</td>\n",
       "      <td>Under David Dewhursts leadership, the Texas Se...</td>\n",
       "      <td>education,health-care,immigration,voting-record</td>\n",
       "    </tr>\n",
       "    <tr>\n",
       "      <th>946</th>\n",
       "      <td>1</td>\n",
       "      <td>Says if we do nothing and continue to let Obam...</td>\n",
       "      <td>health-care,medicare</td>\n",
       "    </tr>\n",
       "  </tbody>\n",
       "</table>\n",
       "</div>"
      ],
      "text/plain": [
       "       labels                                               text  \\\n",
       "7356        2  Jim Renacci supports a national sales tax of 2...   \n",
       "10232       2  Eighty percent of the net new jobs created in ...   \n",
       "4531        5  More women were killed by their husbands or bo...   \n",
       "8616        1  Abortion services are well over 90 percent of ...   \n",
       "3288        1  Says large majority of Republicans believe Oba...   \n",
       "7491        2  We should be seeing numbers in the 500,000 job...   \n",
       "1560        5  Rhode Islanders pay among the highest auto rep...   \n",
       "5233        0  Tuition-free public universities and colleges ...   \n",
       "8021        1  Under David Dewhursts leadership, the Texas Se...   \n",
       "946         1  Says if we do nothing and continue to let Obam...   \n",
       "\n",
       "                                              text_tag  \n",
       "7356              federal-budget,message-machine,taxes  \n",
       "10232                                     economy,jobs  \n",
       "4531                             crime,terrorism,women  \n",
       "8616                           abortion,federal-budget  \n",
       "3288                        candidates-biography,polls  \n",
       "7491                              economy,history,jobs  \n",
       "1560   economy,market-regulation,small-business,states  \n",
       "5233                                 education,history  \n",
       "8021   education,health-care,immigration,voting-record  \n",
       "946                               health-care,medicare  "
      ]
     },
     "execution_count": 3,
     "metadata": {},
     "output_type": "execute_result"
    }
   ],
   "source": [
    "df = pd.read_csv('/home/jovyan/Projects/projet_perso/train.csv')\n",
    "df.columns = df.columns.str.lower()\n",
    "df.sample(10)"
   ]
  },
  {
   "cell_type": "markdown",
   "id": "21a206ed-d6c9-497c-b583-a5b54bf4567d",
   "metadata": {},
   "source": [
    "### Filtrer nos données par rapport aux labels qui sont différents de 4 (4 = Iconnu)"
   ]
  },
  {
   "cell_type": "code",
   "execution_count": 4,
   "id": "d3dd4b16-e50e-45d5-937b-ace725500329",
   "metadata": {},
   "outputs": [],
   "source": [
    "df = df[df[\"labels\"] != 4]"
   ]
  },
  {
   "cell_type": "markdown",
   "id": "88406ae4-ab85-4319-aeac-2c64b3e2f3b1",
   "metadata": {},
   "source": [
    "### supprimer les valeurs manquantes"
   ]
  },
  {
   "cell_type": "code",
   "execution_count": 5,
   "id": "fa7fc164-3b9b-4c9f-ba6e-a51d8e39dabe",
   "metadata": {},
   "outputs": [
    {
     "data": {
      "text/plain": [
       "(9399, 3)"
      ]
     },
     "execution_count": 5,
     "metadata": {},
     "output_type": "execute_result"
    }
   ],
   "source": [
    "df.isnull().any()\n",
    "df[\"text_tag\"].isnull().sum()\n",
    "df=df.dropna()\n",
    "df.shape"
   ]
  },
  {
   "cell_type": "markdown",
   "id": "91d241a5-f672-4463-b5ac-67dbb94fa584",
   "metadata": {},
   "source": [
    "### transformer nos labels multivariés en bivariés ( 1 = Fake news, 0 = vrai info)"
   ]
  },
  {
   "cell_type": "code",
   "execution_count": 6,
   "id": "da04eb4b-c3ea-4b3c-83d6-a1a60a1a86bf",
   "metadata": {},
   "outputs": [
    {
     "data": {
      "text/plain": [
       "1    5761\n",
       "0    3638\n",
       "Name: labels, dtype: int64"
      ]
     },
     "execution_count": 6,
     "metadata": {},
     "output_type": "execute_result"
    }
   ],
   "source": [
    "df[\"labels\"] =df[\"labels\"].apply(lambda x : 0 if x == 3 or x == 5\n",
    "                       else 1)\n",
    "df[\"labels\"].value_counts()"
   ]
  },
  {
   "cell_type": "code",
   "execution_count": 7,
   "id": "a207975c-14c1-49e4-bb75-972f543b8ad2",
   "metadata": {},
   "outputs": [
    {
     "data": {
      "text/html": [
       "<div>\n",
       "<style scoped>\n",
       "    .dataframe tbody tr th:only-of-type {\n",
       "        vertical-align: middle;\n",
       "    }\n",
       "\n",
       "    .dataframe tbody tr th {\n",
       "        vertical-align: top;\n",
       "    }\n",
       "\n",
       "    .dataframe thead th {\n",
       "        text-align: right;\n",
       "    }\n",
       "</style>\n",
       "<table border=\"1\" class=\"dataframe\">\n",
       "  <thead>\n",
       "    <tr style=\"text-align: right;\">\n",
       "      <th></th>\n",
       "      <th>labels</th>\n",
       "      <th>text</th>\n",
       "      <th>text_tag</th>\n",
       "    </tr>\n",
       "  </thead>\n",
       "  <tbody>\n",
       "    <tr>\n",
       "      <th>4413</th>\n",
       "      <td>0</td>\n",
       "      <td>Since World War II, only Gerald Ford and Bill ...</td>\n",
       "      <td>candidates-biography</td>\n",
       "    </tr>\n",
       "    <tr>\n",
       "      <th>367</th>\n",
       "      <td>1</td>\n",
       "      <td>The Redskins Training Camp deal generated $40 ...</td>\n",
       "      <td>city-government,job-accomplishments</td>\n",
       "    </tr>\n",
       "    <tr>\n",
       "      <th>195</th>\n",
       "      <td>0</td>\n",
       "      <td>Marco Rubio voted against authorizing Presiden...</td>\n",
       "      <td>candidates-biography,congress,foreign-policy,h...</td>\n",
       "    </tr>\n",
       "    <tr>\n",
       "      <th>6316</th>\n",
       "      <td>0</td>\n",
       "      <td>More people were killed by terrorists in 2015 ...</td>\n",
       "      <td>terrorism</td>\n",
       "    </tr>\n",
       "    <tr>\n",
       "      <th>2458</th>\n",
       "      <td>0</td>\n",
       "      <td>Cobb County businesses have already been award...</td>\n",
       "      <td>baseball,county-budget,debt,economy,legal-issues</td>\n",
       "    </tr>\n",
       "    <tr>\n",
       "      <th>1562</th>\n",
       "      <td>0</td>\n",
       "      <td>Barack Obama said \"people making less than $25...</td>\n",
       "      <td>taxes</td>\n",
       "    </tr>\n",
       "    <tr>\n",
       "      <th>7711</th>\n",
       "      <td>0</td>\n",
       "      <td>Says there are Ohio Turnpike workers getting p...</td>\n",
       "      <td>government-efficiency,state-budget</td>\n",
       "    </tr>\n",
       "    <tr>\n",
       "      <th>9294</th>\n",
       "      <td>0</td>\n",
       "      <td>The Central Falls fire department is one of th...</td>\n",
       "      <td>city-budget,labor,unions</td>\n",
       "    </tr>\n",
       "    <tr>\n",
       "      <th>1489</th>\n",
       "      <td>0</td>\n",
       "      <td>With the tax controls we already put in place,...</td>\n",
       "      <td>state-budget,state-finances,taxes</td>\n",
       "    </tr>\n",
       "    <tr>\n",
       "      <th>4417</th>\n",
       "      <td>0</td>\n",
       "      <td>The major immigration issue was about Poles, a...</td>\n",
       "      <td>economy,immigration,jobs</td>\n",
       "    </tr>\n",
       "  </tbody>\n",
       "</table>\n",
       "</div>"
      ],
      "text/plain": [
       "      labels                                               text  \\\n",
       "4413       0  Since World War II, only Gerald Ford and Bill ...   \n",
       "367        1  The Redskins Training Camp deal generated $40 ...   \n",
       "195        0  Marco Rubio voted against authorizing Presiden...   \n",
       "6316       0  More people were killed by terrorists in 2015 ...   \n",
       "2458       0  Cobb County businesses have already been award...   \n",
       "1562       0  Barack Obama said \"people making less than $25...   \n",
       "7711       0  Says there are Ohio Turnpike workers getting p...   \n",
       "9294       0  The Central Falls fire department is one of th...   \n",
       "1489       0  With the tax controls we already put in place,...   \n",
       "4417       0  The major immigration issue was about Poles, a...   \n",
       "\n",
       "                                               text_tag  \n",
       "4413                               candidates-biography  \n",
       "367                 city-government,job-accomplishments  \n",
       "195   candidates-biography,congress,foreign-policy,h...  \n",
       "6316                                          terrorism  \n",
       "2458   baseball,county-budget,debt,economy,legal-issues  \n",
       "1562                                              taxes  \n",
       "7711                 government-efficiency,state-budget  \n",
       "9294                           city-budget,labor,unions  \n",
       "1489                  state-budget,state-finances,taxes  \n",
       "4417                           economy,immigration,jobs  "
      ]
     },
     "execution_count": 7,
     "metadata": {},
     "output_type": "execute_result"
    }
   ],
   "source": [
    "df.sample(10)"
   ]
  },
  {
   "cell_type": "markdown",
   "id": "48712c75-7c76-4e71-bdb7-7600156b39db",
   "metadata": {},
   "source": [
    "### transformer tous les tag_text majuscules en minuscules"
   ]
  },
  {
   "cell_type": "code",
   "execution_count": 8,
   "id": "9b7102ae-1e1a-4338-badb-9575e2656f33",
   "metadata": {},
   "outputs": [],
   "source": [
    "df[\"text_tag\"] = df[\"text_tag\"].fillna(\"\").str.lower()"
   ]
  },
  {
   "cell_type": "code",
   "execution_count": 9,
   "id": "b14ed93c-55a1-4fd0-823c-ba59a16d705b",
   "metadata": {},
   "outputs": [
    {
     "data": {
      "text/plain": [
       "array(['abortion', 'energy,history,job-accomplishments', 'foreign-policy',\n",
       "       ..., 'animals,elections', 'retirement,social-security',\n",
       "       'florida,foreign-policy'], dtype=object)"
      ]
     },
     "execution_count": 9,
     "metadata": {},
     "output_type": "execute_result"
    }
   ],
   "source": [
    "tags = df.text_tag.unique()\n",
    "tags"
   ]
  },
  {
   "cell_type": "markdown",
   "id": "832901ff-12e3-43b8-b1aa-f52de622d2bc",
   "metadata": {},
   "source": [
    "### rajouter nos tag_text au text"
   ]
  },
  {
   "cell_type": "code",
   "execution_count": 10,
   "id": "d1a510f2-a33c-4239-9a21-5e73c8b7cfc5",
   "metadata": {},
   "outputs": [
    {
     "data": {
      "text/plain": [
       "'Says the Annies List political group supports third-trimester abortions on demand. abortion'"
      ]
     },
     "execution_count": 10,
     "metadata": {},
     "output_type": "execute_result"
    }
   ],
   "source": [
    "df[\"text\"] = df[\"text\"] + \" \" + df[\"text_tag\"].str.replace(\",\", \" \")\n",
    "df[\"text\"][0]"
   ]
  },
  {
   "cell_type": "markdown",
   "id": "c30efd51-ad5b-41ac-8a2e-7c9d6b98df4d",
   "metadata": {},
   "source": [
    "supprimer la colonnes text_tag"
   ]
  },
  {
   "cell_type": "code",
   "execution_count": 11,
   "id": "381e3fb1-4317-4cb8-98d1-580df1baef44",
   "metadata": {},
   "outputs": [
    {
     "data": {
      "text/html": [
       "<div>\n",
       "<style scoped>\n",
       "    .dataframe tbody tr th:only-of-type {\n",
       "        vertical-align: middle;\n",
       "    }\n",
       "\n",
       "    .dataframe tbody tr th {\n",
       "        vertical-align: top;\n",
       "    }\n",
       "\n",
       "    .dataframe thead th {\n",
       "        text-align: right;\n",
       "    }\n",
       "</style>\n",
       "<table border=\"1\" class=\"dataframe\">\n",
       "  <thead>\n",
       "    <tr style=\"text-align: right;\">\n",
       "      <th></th>\n",
       "      <th>labels</th>\n",
       "      <th>text</th>\n",
       "    </tr>\n",
       "  </thead>\n",
       "  <tbody>\n",
       "    <tr>\n",
       "      <th>0</th>\n",
       "      <td>1</td>\n",
       "      <td>Says the Annies List political group supports ...</td>\n",
       "    </tr>\n",
       "    <tr>\n",
       "      <th>1</th>\n",
       "      <td>1</td>\n",
       "      <td>When did the decline of coal start? It started...</td>\n",
       "    </tr>\n",
       "    <tr>\n",
       "      <th>2</th>\n",
       "      <td>0</td>\n",
       "      <td>Hillary Clinton agrees with John McCain \"by vo...</td>\n",
       "    </tr>\n",
       "    <tr>\n",
       "      <th>3</th>\n",
       "      <td>1</td>\n",
       "      <td>Health care reform legislation is likely to ma...</td>\n",
       "    </tr>\n",
       "    <tr>\n",
       "      <th>4</th>\n",
       "      <td>1</td>\n",
       "      <td>The economic turnaround started at the end of ...</td>\n",
       "    </tr>\n",
       "  </tbody>\n",
       "</table>\n",
       "</div>"
      ],
      "text/plain": [
       "   labels                                               text\n",
       "0       1  Says the Annies List political group supports ...\n",
       "1       1  When did the decline of coal start? It started...\n",
       "2       0  Hillary Clinton agrees with John McCain \"by vo...\n",
       "3       1  Health care reform legislation is likely to ma...\n",
       "4       1  The economic turnaround started at the end of ..."
      ]
     },
     "execution_count": 11,
     "metadata": {},
     "output_type": "execute_result"
    }
   ],
   "source": [
    "df = df.drop(columns = \"text_tag\")\n",
    "df.head()"
   ]
  },
  {
   "cell_type": "code",
   "execution_count": 12,
   "id": "0f1b9889-62be-491c-a23d-ebc48ab19be6",
   "metadata": {},
   "outputs": [
    {
     "data": {
      "text/plain": [
       "'When did the decline of coal start? It started when natural gas took off that started to begin in (President George W.) Bushs administration. energy history job-accomplishments'"
      ]
     },
     "execution_count": 12,
     "metadata": {},
     "output_type": "execute_result"
    }
   ],
   "source": [
    "df[\"text\"][1]"
   ]
  },
  {
   "cell_type": "markdown",
   "id": "1b22dde8-c90d-4260-a560-b77ed889c4a2",
   "metadata": {},
   "source": [
    "### preprocessing à l'aide de spacy avec les spécificités de la langues anglais"
   ]
  },
  {
   "cell_type": "code",
   "execution_count": 13,
   "id": "99e7f308-10d6-45d9-9d88-fec8e5859fea",
   "metadata": {},
   "outputs": [],
   "source": [
    "#import en_core_web_sm\n",
    "#nlp = en_core_web_sm.load()"
   ]
  },
  {
   "cell_type": "markdown",
   "id": "8b3e6819-6768-4895-8de4-e77f565516ee",
   "metadata": {},
   "source": [
    "### transformer notre colonne text en un objet nlp"
   ]
  },
  {
   "cell_type": "code",
   "execution_count": 14,
   "id": "c8e6cf50-f647-4bb0-bbbb-2e5ee14fc3f2",
   "metadata": {},
   "outputs": [],
   "source": [
    "#df[\"text_tokens\"] = df.text.map(lambda x: nlp(x))\n",
    "#df[\"text_tokens\"]"
   ]
  },
  {
   "cell_type": "markdown",
   "id": "097680d5-c543-4907-b575-e15e481d53ba",
   "metadata": {},
   "source": [
    "### Stemming du text"
   ]
  },
  {
   "cell_type": "code",
   "execution_count": 15,
   "id": "652ce04f-5033-42b0-9203-0bc530d36c54",
   "metadata": {},
   "outputs": [
    {
     "name": "stderr",
     "output_type": "stream",
     "text": [
      "[nltk_data] Downloading package punkt to /home/jovyan/nltk_data...\n",
      "[nltk_data]   Package punkt is already up-to-date!\n"
     ]
    },
    {
     "data": {
      "text/plain": [
       "text         The economic turnaround started at the end of ...\n",
       "text_stem    [the, econom, turnaround, start, at, the, end,...\n",
       "Name: 4, dtype: object"
      ]
     },
     "execution_count": 15,
     "metadata": {},
     "output_type": "execute_result"
    }
   ],
   "source": [
    "import nltk\n",
    "nltk.download('punkt')\n",
    "\n",
    "from nltk import word_tokenize\n",
    "from nltk.stem import PorterStemmer\n",
    "\n",
    "en = PorterStemmer()\n",
    "\n",
    "#sent = df[\"text\"]\n",
    "#word_tokenize(sent)\n",
    "#['pommes', ',', 'noisettes', 'dorées', '&', 'moelleuses', ',', 'la', 'boîte', 'de', '350g']\n",
    "\n",
    "#[en.stem(word) for word in word_tokenize(sent)]\n",
    "#['pomm', ',', 'noiset', 'dor', '&', 'moelleux', ',', 'la', 'boît', 'de', '350g']\n",
    "\n",
    "#' '.join([fr.stem(word) for word in word_tokenize(sent)])\n",
    "#'pomm , noiset dor & moelleux , la boît de 350g'\n",
    "\n",
    "\n",
    "df[\"text_stem\"] = df[\"text\"].map(lambda s: [en.stem(word) for word in s.split(\" \")])\n",
    "\n",
    "df[[\"text\", \"text_stem\"]].iloc[4]#.tolist()\n"
   ]
  },
  {
   "cell_type": "code",
   "execution_count": 16,
   "id": "9be4ebcc-1c0e-4116-aa06-4b9d89a4830e",
   "metadata": {},
   "outputs": [
    {
     "data": {
      "text/html": [
       "<div>\n",
       "<style scoped>\n",
       "    .dataframe tbody tr th:only-of-type {\n",
       "        vertical-align: middle;\n",
       "    }\n",
       "\n",
       "    .dataframe tbody tr th {\n",
       "        vertical-align: top;\n",
       "    }\n",
       "\n",
       "    .dataframe thead th {\n",
       "        text-align: right;\n",
       "    }\n",
       "</style>\n",
       "<table border=\"1\" class=\"dataframe\">\n",
       "  <thead>\n",
       "    <tr style=\"text-align: right;\">\n",
       "      <th></th>\n",
       "      <th>labels</th>\n",
       "      <th>text</th>\n",
       "      <th>text_stem</th>\n",
       "    </tr>\n",
       "  </thead>\n",
       "  <tbody>\n",
       "    <tr>\n",
       "      <th>0</th>\n",
       "      <td>1</td>\n",
       "      <td>Says the Annies List political group supports ...</td>\n",
       "      <td>[say, the, anni, list, polit, group, support, ...</td>\n",
       "    </tr>\n",
       "    <tr>\n",
       "      <th>1</th>\n",
       "      <td>1</td>\n",
       "      <td>When did the decline of coal start? It started...</td>\n",
       "      <td>[when, did, the, declin, of, coal, start?, it,...</td>\n",
       "    </tr>\n",
       "    <tr>\n",
       "      <th>2</th>\n",
       "      <td>0</td>\n",
       "      <td>Hillary Clinton agrees with John McCain \"by vo...</td>\n",
       "      <td>[hillari, clinton, agre, with, john, mccain, \"...</td>\n",
       "    </tr>\n",
       "    <tr>\n",
       "      <th>3</th>\n",
       "      <td>1</td>\n",
       "      <td>Health care reform legislation is likely to ma...</td>\n",
       "      <td>[health, care, reform, legisl, is, like, to, m...</td>\n",
       "    </tr>\n",
       "    <tr>\n",
       "      <th>4</th>\n",
       "      <td>1</td>\n",
       "      <td>The economic turnaround started at the end of ...</td>\n",
       "      <td>[the, econom, turnaround, start, at, the, end,...</td>\n",
       "    </tr>\n",
       "  </tbody>\n",
       "</table>\n",
       "</div>"
      ],
      "text/plain": [
       "   labels                                               text  \\\n",
       "0       1  Says the Annies List political group supports ...   \n",
       "1       1  When did the decline of coal start? It started...   \n",
       "2       0  Hillary Clinton agrees with John McCain \"by vo...   \n",
       "3       1  Health care reform legislation is likely to ma...   \n",
       "4       1  The economic turnaround started at the end of ...   \n",
       "\n",
       "                                           text_stem  \n",
       "0  [say, the, anni, list, polit, group, support, ...  \n",
       "1  [when, did, the, declin, of, coal, start?, it,...  \n",
       "2  [hillari, clinton, agre, with, john, mccain, \"...  \n",
       "3  [health, care, reform, legisl, is, like, to, m...  \n",
       "4  [the, econom, turnaround, start, at, the, end,...  "
      ]
     },
     "execution_count": 16,
     "metadata": {},
     "output_type": "execute_result"
    }
   ],
   "source": [
    "df.head()"
   ]
  },
  {
   "cell_type": "code",
   "execution_count": 21,
   "id": "24d74710-9249-4968-a776-5c3b93c49d75",
   "metadata": {},
   "outputs": [
    {
     "data": {
      "text/plain": [
       "['when',\n",
       " 'did',\n",
       " 'the',\n",
       " 'declin',\n",
       " 'of',\n",
       " 'coal',\n",
       " 'start?',\n",
       " 'it',\n",
       " 'start',\n",
       " 'when',\n",
       " 'natur',\n",
       " 'ga',\n",
       " 'took',\n",
       " 'off',\n",
       " 'that',\n",
       " 'start',\n",
       " 'to',\n",
       " 'begin',\n",
       " 'in',\n",
       " '(presid',\n",
       " 'georg',\n",
       " 'w.)',\n",
       " 'bush',\n",
       " 'administration.',\n",
       " 'energi',\n",
       " 'histori',\n",
       " 'job-accomplish']"
      ]
     },
     "execution_count": 21,
     "metadata": {},
     "output_type": "execute_result"
    }
   ],
   "source": [
    "df[\"text_stem\"][1]"
   ]
  },
  {
   "cell_type": "code",
   "execution_count": 17,
   "id": "3dfa0e4d-764e-48c7-90dd-07f1d5fe591e",
   "metadata": {},
   "outputs": [],
   "source": [
    "import pickle\n",
    "df.to_pickle('df_st_ps.pk')"
   ]
  },
  {
   "cell_type": "code",
   "execution_count": 18,
   "id": "d4035856-6414-4ec4-a994-62dec309ce05",
   "metadata": {},
   "outputs": [
    {
     "data": {
      "text/plain": [
       "'gener'"
      ]
     },
     "execution_count": 18,
     "metadata": {},
     "output_type": "execute_result"
    }
   ],
   "source": [
    "en.stem(\"generously\")"
   ]
  },
  {
   "cell_type": "code",
   "execution_count": 19,
   "id": "591d92fe-0402-49f6-a551-185fc4b42729",
   "metadata": {},
   "outputs": [],
   "source": [
    "from nltk.stem import PorterStemmer"
   ]
  },
  {
   "cell_type": "code",
   "execution_count": 20,
   "id": "82597125-0c73-49f9-bc4e-edba3bf5ecab",
   "metadata": {},
   "outputs": [
    {
     "data": {
      "text/plain": [
       "'gener'"
      ]
     },
     "execution_count": 20,
     "metadata": {},
     "output_type": "execute_result"
    }
   ],
   "source": [
    "ps = PorterStemmer()\n",
    "ps.stem(\"generously\")"
   ]
  },
  {
   "cell_type": "code",
   "execution_count": null,
   "id": "d1388f00-4eee-40c7-9e78-6b0fc55884b7",
   "metadata": {},
   "outputs": [],
   "source": []
  }
 ],
 "metadata": {
  "kernelspec": {
   "display_name": "Python 3 (ipykernel)",
   "language": "python",
   "name": "python3"
  },
  "language_info": {
   "codemirror_mode": {
    "name": "ipython",
    "version": 3
   },
   "file_extension": ".py",
   "mimetype": "text/x-python",
   "name": "python",
   "nbconvert_exporter": "python",
   "pygments_lexer": "ipython3",
   "version": "3.9.7"
  }
 },
 "nbformat": 4,
 "nbformat_minor": 5
}
