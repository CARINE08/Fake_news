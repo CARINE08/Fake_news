{
 "cells": [
  {
   "cell_type": "code",
   "execution_count": 1,
   "id": "c8a83e63-c912-4d3e-97d0-9a5857a94e93",
   "metadata": {},
   "outputs": [
    {
     "name": "stdout",
     "output_type": "stream",
     "text": [
      "\u001b[38;5;3m⚠ As of spaCy v3.0, shortcuts like 'en' are deprecated. Please use the\n",
      "full pipeline package name 'en_core_web_sm' instead.\u001b[0m\n",
      "\u001b[38;5;2m✔ Download and installation successful\u001b[0m\n",
      "You can now load the package via spacy.load('en_core_web_sm')\n",
      "\n",
      "\u001b[38;5;1m✘ No compatible package found for 'en_core_news_md' (spaCy v3.2.4)\u001b[0m\n",
      "\n"
     ]
    }
   ],
   "source": [
    "!pip3 install spacy -q\n",
    "!python3 -m spacy download en -q\n",
    "!python3 -m spacy download en_core_news_md -q"
   ]
  },
  {
   "cell_type": "markdown",
   "id": "89afd8a7-1dbf-4520-b543-be81d403a6f9",
   "metadata": {},
   "source": [
    "### importer les differentes librairies"
   ]
  },
  {
   "cell_type": "code",
   "execution_count": 1,
   "id": "5501d1cd-1b19-4022-968f-dba94d678cfb",
   "metadata": {},
   "outputs": [],
   "source": [
    "import pandas as pd\n",
    "import spacy\n",
    "import matplotlib.pyplot as plt\n",
    "from urllib.parse import urlparse"
   ]
  },
  {
   "cell_type": "markdown",
   "id": "eb07c561-1cc9-43f1-8752-ad5e129dc619",
   "metadata": {},
   "source": [
    "### lire nos données et transformer les colonnes majuscules en minuscules"
   ]
  },
  {
   "cell_type": "code",
   "execution_count": 2,
   "id": "0b41b753-a867-456f-9206-0de46d4d15f9",
   "metadata": {},
   "outputs": [
    {
     "data": {
      "text/html": [
       "<div>\n",
       "<style scoped>\n",
       "    .dataframe tbody tr th:only-of-type {\n",
       "        vertical-align: middle;\n",
       "    }\n",
       "\n",
       "    .dataframe tbody tr th {\n",
       "        vertical-align: top;\n",
       "    }\n",
       "\n",
       "    .dataframe thead th {\n",
       "        text-align: right;\n",
       "    }\n",
       "</style>\n",
       "<table border=\"1\" class=\"dataframe\">\n",
       "  <thead>\n",
       "    <tr style=\"text-align: right;\">\n",
       "      <th></th>\n",
       "      <th>labels</th>\n",
       "      <th>text</th>\n",
       "      <th>text_tag</th>\n",
       "    </tr>\n",
       "  </thead>\n",
       "  <tbody>\n",
       "    <tr>\n",
       "      <th>8626</th>\n",
       "      <td>1</td>\n",
       "      <td>For the last decade the climate has been cooling.</td>\n",
       "      <td>cap-and-trade,climate-change,environment,pundits</td>\n",
       "    </tr>\n",
       "    <tr>\n",
       "      <th>3948</th>\n",
       "      <td>5</td>\n",
       "      <td>Mike Martinez cut a deal with prosecutors to a...</td>\n",
       "      <td>city-budget,city-government,ethics,legal-issues</td>\n",
       "    </tr>\n",
       "    <tr>\n",
       "      <th>7376</th>\n",
       "      <td>3</td>\n",
       "      <td>Today, the United States has, sadly, one of th...</td>\n",
       "      <td>elections</td>\n",
       "    </tr>\n",
       "    <tr>\n",
       "      <th>8657</th>\n",
       "      <td>1</td>\n",
       "      <td>Assertions that it makes no difference whether...</td>\n",
       "      <td>children,diversity,families,gays-and-lesbians,...</td>\n",
       "    </tr>\n",
       "    <tr>\n",
       "      <th>9730</th>\n",
       "      <td>5</td>\n",
       "      <td>Suzanne Bonamici was the only no vote on a 200...</td>\n",
       "      <td>crime,criminal-justice,message-machine-2012,vo...</td>\n",
       "    </tr>\n",
       "    <tr>\n",
       "      <th>4748</th>\n",
       "      <td>0</td>\n",
       "      <td>Under Virginia law, if you are a non-federally...</td>\n",
       "      <td>guns</td>\n",
       "    </tr>\n",
       "    <tr>\n",
       "      <th>4468</th>\n",
       "      <td>5</td>\n",
       "      <td>New Jersey has the highest property taxes in t...</td>\n",
       "      <td>taxes</td>\n",
       "    </tr>\n",
       "    <tr>\n",
       "      <th>8293</th>\n",
       "      <td>0</td>\n",
       "      <td>Says President Barack Obama promised he would ...</td>\n",
       "      <td>deficit,federal-budget,new-hampshire-2012</td>\n",
       "    </tr>\n",
       "    <tr>\n",
       "      <th>1348</th>\n",
       "      <td>3</td>\n",
       "      <td>The two worst counties for (Medicaid) fraud in...</td>\n",
       "      <td>crime,health-care</td>\n",
       "    </tr>\n",
       "    <tr>\n",
       "      <th>2682</th>\n",
       "      <td>3</td>\n",
       "      <td>An illegal immigrant who gains admission at a ...</td>\n",
       "      <td>education,immigration</td>\n",
       "    </tr>\n",
       "  </tbody>\n",
       "</table>\n",
       "</div>"
      ],
      "text/plain": [
       "      labels                                               text  \\\n",
       "8626       1  For the last decade the climate has been cooling.   \n",
       "3948       5  Mike Martinez cut a deal with prosecutors to a...   \n",
       "7376       3  Today, the United States has, sadly, one of th...   \n",
       "8657       1  Assertions that it makes no difference whether...   \n",
       "9730       5  Suzanne Bonamici was the only no vote on a 200...   \n",
       "4748       0  Under Virginia law, if you are a non-federally...   \n",
       "4468       5  New Jersey has the highest property taxes in t...   \n",
       "8293       0  Says President Barack Obama promised he would ...   \n",
       "1348       3  The two worst counties for (Medicaid) fraud in...   \n",
       "2682       3  An illegal immigrant who gains admission at a ...   \n",
       "\n",
       "                                               text_tag  \n",
       "8626   cap-and-trade,climate-change,environment,pundits  \n",
       "3948    city-budget,city-government,ethics,legal-issues  \n",
       "7376                                          elections  \n",
       "8657  children,diversity,families,gays-and-lesbians,...  \n",
       "9730  crime,criminal-justice,message-machine-2012,vo...  \n",
       "4748                                               guns  \n",
       "4468                                              taxes  \n",
       "8293          deficit,federal-budget,new-hampshire-2012  \n",
       "1348                                  crime,health-care  \n",
       "2682                              education,immigration  "
      ]
     },
     "execution_count": 2,
     "metadata": {},
     "output_type": "execute_result"
    }
   ],
   "source": [
    "df = pd.read_csv('/home/jovyan/Projects/projet_perso/train.csv')\n",
    "df.columns = df.columns.str.lower()\n",
    "df.sample(10)"
   ]
  },
  {
   "cell_type": "markdown",
   "id": "21a206ed-d6c9-497c-b583-a5b54bf4567d",
   "metadata": {},
   "source": [
    "### Filtrer nos données par rapport aux labels qui sont différents de 4 (4 = Iconnu)"
   ]
  },
  {
   "cell_type": "code",
   "execution_count": 3,
   "id": "d3dd4b16-e50e-45d5-937b-ace725500329",
   "metadata": {},
   "outputs": [],
   "source": [
    "df = df[df[\"labels\"] != 4]"
   ]
  },
  {
   "cell_type": "markdown",
   "id": "88406ae4-ab85-4319-aeac-2c64b3e2f3b1",
   "metadata": {},
   "source": [
    "### supprimer les valeurs manquantes"
   ]
  },
  {
   "cell_type": "code",
   "execution_count": 4,
   "id": "fa7fc164-3b9b-4c9f-ba6e-a51d8e39dabe",
   "metadata": {},
   "outputs": [
    {
     "data": {
      "text/plain": [
       "(9399, 3)"
      ]
     },
     "execution_count": 4,
     "metadata": {},
     "output_type": "execute_result"
    }
   ],
   "source": [
    "df.isnull().any()\n",
    "df[\"text_tag\"].isnull().sum()\n",
    "df=df.dropna()\n",
    "df.shape"
   ]
  },
  {
   "cell_type": "markdown",
   "id": "91d241a5-f672-4463-b5ac-67dbb94fa584",
   "metadata": {},
   "source": [
    "### transformer nos labels multivariés en bivariés ( 1 = Fake news, 0 = vrai info)"
   ]
  },
  {
   "cell_type": "code",
   "execution_count": 5,
   "id": "da04eb4b-c3ea-4b3c-83d6-a1a60a1a86bf",
   "metadata": {},
   "outputs": [
    {
     "data": {
      "text/plain": [
       "1    5761\n",
       "0    3638\n",
       "Name: labels, dtype: int64"
      ]
     },
     "execution_count": 5,
     "metadata": {},
     "output_type": "execute_result"
    }
   ],
   "source": [
    "df[\"labels\"] =df[\"labels\"].apply(lambda x : 0 if x == 3 or x == 5\n",
    "                       else 1)\n",
    "df[\"labels\"].value_counts()"
   ]
  },
  {
   "cell_type": "code",
   "execution_count": 6,
   "id": "a207975c-14c1-49e4-bb75-972f543b8ad2",
   "metadata": {},
   "outputs": [
    {
     "data": {
      "text/html": [
       "<div>\n",
       "<style scoped>\n",
       "    .dataframe tbody tr th:only-of-type {\n",
       "        vertical-align: middle;\n",
       "    }\n",
       "\n",
       "    .dataframe tbody tr th {\n",
       "        vertical-align: top;\n",
       "    }\n",
       "\n",
       "    .dataframe thead th {\n",
       "        text-align: right;\n",
       "    }\n",
       "</style>\n",
       "<table border=\"1\" class=\"dataframe\">\n",
       "  <thead>\n",
       "    <tr style=\"text-align: right;\">\n",
       "      <th></th>\n",
       "      <th>labels</th>\n",
       "      <th>text</th>\n",
       "      <th>text_tag</th>\n",
       "    </tr>\n",
       "  </thead>\n",
       "  <tbody>\n",
       "    <tr>\n",
       "      <th>5254</th>\n",
       "      <td>1</td>\n",
       "      <td>Says Florida had five sanctuary cities while J...</td>\n",
       "      <td>immigration</td>\n",
       "    </tr>\n",
       "    <tr>\n",
       "      <th>4968</th>\n",
       "      <td>0</td>\n",
       "      <td>Our median income here in Providence is the sa...</td>\n",
       "      <td>economy,income,poverty</td>\n",
       "    </tr>\n",
       "    <tr>\n",
       "      <th>5517</th>\n",
       "      <td>1</td>\n",
       "      <td>HIV/AIDS among women is skyrocketing in Austin.</td>\n",
       "      <td>city-budget,city-government,health-care,public...</td>\n",
       "    </tr>\n",
       "    <tr>\n",
       "      <th>6056</th>\n",
       "      <td>0</td>\n",
       "      <td>African-Americans dont use drugs at a higher l...</td>\n",
       "      <td>crime,criminal-justice,drugs,history,human-rig...</td>\n",
       "    </tr>\n",
       "    <tr>\n",
       "      <th>9171</th>\n",
       "      <td>1</td>\n",
       "      <td>Says drug dealers have overdosed on purpose to...</td>\n",
       "      <td>crime,drugs,legal-issues</td>\n",
       "    </tr>\n",
       "    <tr>\n",
       "      <th>5559</th>\n",
       "      <td>1</td>\n",
       "      <td>Says when she helped get $15 billion more for ...</td>\n",
       "      <td>federal-budget,message-machine-2012,veterans,v...</td>\n",
       "    </tr>\n",
       "    <tr>\n",
       "      <th>5677</th>\n",
       "      <td>0</td>\n",
       "      <td>The Republicans have demanded deep cuts in edu...</td>\n",
       "      <td>education,federal-budget,health-care,science,a...</td>\n",
       "    </tr>\n",
       "    <tr>\n",
       "      <th>648</th>\n",
       "      <td>1</td>\n",
       "      <td>Democrats in the Legislature in 2009 voted for...</td>\n",
       "      <td>state-budget</td>\n",
       "    </tr>\n",
       "    <tr>\n",
       "      <th>3096</th>\n",
       "      <td>1</td>\n",
       "      <td>Teachers will not be able to return to work af...</td>\n",
       "      <td>education,families</td>\n",
       "    </tr>\n",
       "    <tr>\n",
       "      <th>6525</th>\n",
       "      <td>1</td>\n",
       "      <td>The crime rate in some Atlanta neighborhoods h...</td>\n",
       "      <td>crime</td>\n",
       "    </tr>\n",
       "  </tbody>\n",
       "</table>\n",
       "</div>"
      ],
      "text/plain": [
       "      labels                                               text  \\\n",
       "5254       1  Says Florida had five sanctuary cities while J...   \n",
       "4968       0  Our median income here in Providence is the sa...   \n",
       "5517       1    HIV/AIDS among women is skyrocketing in Austin.   \n",
       "6056       0  African-Americans dont use drugs at a higher l...   \n",
       "9171       1  Says drug dealers have overdosed on purpose to...   \n",
       "5559       1  Says when she helped get $15 billion more for ...   \n",
       "5677       0  The Republicans have demanded deep cuts in edu...   \n",
       "648        1  Democrats in the Legislature in 2009 voted for...   \n",
       "3096       1  Teachers will not be able to return to work af...   \n",
       "6525       1  The crime rate in some Atlanta neighborhoods h...   \n",
       "\n",
       "                                               text_tag  \n",
       "5254                                        immigration  \n",
       "4968                             economy,income,poverty  \n",
       "5517  city-budget,city-government,health-care,public...  \n",
       "6056  crime,criminal-justice,drugs,history,human-rig...  \n",
       "9171                           crime,drugs,legal-issues  \n",
       "5559  federal-budget,message-machine-2012,veterans,v...  \n",
       "5677  education,federal-budget,health-care,science,a...  \n",
       "648                                        state-budget  \n",
       "3096                                 education,families  \n",
       "6525                                              crime  "
      ]
     },
     "execution_count": 6,
     "metadata": {},
     "output_type": "execute_result"
    }
   ],
   "source": [
    "df.sample(10)"
   ]
  },
  {
   "cell_type": "markdown",
   "id": "48712c75-7c76-4e71-bdb7-7600156b39db",
   "metadata": {},
   "source": [
    "### transformer tous les tag_text majuscules en minuscules"
   ]
  },
  {
   "cell_type": "code",
   "execution_count": 7,
   "id": "9b7102ae-1e1a-4338-badb-9575e2656f33",
   "metadata": {},
   "outputs": [],
   "source": [
    "df[\"text_tag\"] = df[\"text_tag\"].fillna(\"\").str.lower()"
   ]
  },
  {
   "cell_type": "code",
   "execution_count": 8,
   "id": "b14ed93c-55a1-4fd0-823c-ba59a16d705b",
   "metadata": {},
   "outputs": [
    {
     "data": {
      "text/plain": [
       "array(['abortion', 'energy,history,job-accomplishments', 'foreign-policy',\n",
       "       ..., 'animals,elections', 'retirement,social-security',\n",
       "       'florida,foreign-policy'], dtype=object)"
      ]
     },
     "execution_count": 8,
     "metadata": {},
     "output_type": "execute_result"
    }
   ],
   "source": [
    "tags = df.text_tag.unique()\n",
    "tags"
   ]
  },
  {
   "cell_type": "markdown",
   "id": "832901ff-12e3-43b8-b1aa-f52de622d2bc",
   "metadata": {},
   "source": [
    "### rajouter nos tag_text au text"
   ]
  },
  {
   "cell_type": "code",
   "execution_count": 9,
   "id": "d1a510f2-a33c-4239-9a21-5e73c8b7cfc5",
   "metadata": {},
   "outputs": [
    {
     "data": {
      "text/plain": [
       "'Says the Annies List political group supports third-trimester abortions on demand. abortion'"
      ]
     },
     "execution_count": 9,
     "metadata": {},
     "output_type": "execute_result"
    }
   ],
   "source": [
    "df[\"text\"] = df[\"text\"] + \" \" + df[\"text_tag\"].str.replace(\",\", \" \")\n",
    "df[\"text\"][0]"
   ]
  },
  {
   "cell_type": "markdown",
   "id": "c30efd51-ad5b-41ac-8a2e-7c9d6b98df4d",
   "metadata": {},
   "source": [
    "supprimer la colonnes text_tag"
   ]
  },
  {
   "cell_type": "code",
   "execution_count": 10,
   "id": "381e3fb1-4317-4cb8-98d1-580df1baef44",
   "metadata": {},
   "outputs": [
    {
     "data": {
      "text/html": [
       "<div>\n",
       "<style scoped>\n",
       "    .dataframe tbody tr th:only-of-type {\n",
       "        vertical-align: middle;\n",
       "    }\n",
       "\n",
       "    .dataframe tbody tr th {\n",
       "        vertical-align: top;\n",
       "    }\n",
       "\n",
       "    .dataframe thead th {\n",
       "        text-align: right;\n",
       "    }\n",
       "</style>\n",
       "<table border=\"1\" class=\"dataframe\">\n",
       "  <thead>\n",
       "    <tr style=\"text-align: right;\">\n",
       "      <th></th>\n",
       "      <th>labels</th>\n",
       "      <th>text</th>\n",
       "    </tr>\n",
       "  </thead>\n",
       "  <tbody>\n",
       "    <tr>\n",
       "      <th>0</th>\n",
       "      <td>1</td>\n",
       "      <td>Says the Annies List political group supports ...</td>\n",
       "    </tr>\n",
       "    <tr>\n",
       "      <th>1</th>\n",
       "      <td>1</td>\n",
       "      <td>When did the decline of coal start? It started...</td>\n",
       "    </tr>\n",
       "    <tr>\n",
       "      <th>2</th>\n",
       "      <td>0</td>\n",
       "      <td>Hillary Clinton agrees with John McCain \"by vo...</td>\n",
       "    </tr>\n",
       "    <tr>\n",
       "      <th>3</th>\n",
       "      <td>1</td>\n",
       "      <td>Health care reform legislation is likely to ma...</td>\n",
       "    </tr>\n",
       "    <tr>\n",
       "      <th>4</th>\n",
       "      <td>1</td>\n",
       "      <td>The economic turnaround started at the end of ...</td>\n",
       "    </tr>\n",
       "  </tbody>\n",
       "</table>\n",
       "</div>"
      ],
      "text/plain": [
       "   labels                                               text\n",
       "0       1  Says the Annies List political group supports ...\n",
       "1       1  When did the decline of coal start? It started...\n",
       "2       0  Hillary Clinton agrees with John McCain \"by vo...\n",
       "3       1  Health care reform legislation is likely to ma...\n",
       "4       1  The economic turnaround started at the end of ..."
      ]
     },
     "execution_count": 10,
     "metadata": {},
     "output_type": "execute_result"
    }
   ],
   "source": [
    "df = df.drop(columns = \"text_tag\")\n",
    "df.head()"
   ]
  },
  {
   "cell_type": "code",
   "execution_count": 11,
   "id": "0f1b9889-62be-491c-a23d-ebc48ab19be6",
   "metadata": {},
   "outputs": [
    {
     "data": {
      "text/plain": [
       "'When did the decline of coal start? It started when natural gas took off that started to begin in (President George W.) Bushs administration. energy history job-accomplishments'"
      ]
     },
     "execution_count": 11,
     "metadata": {},
     "output_type": "execute_result"
    }
   ],
   "source": [
    "df[\"text\"][1]"
   ]
  },
  {
   "cell_type": "markdown",
   "id": "1b22dde8-c90d-4260-a560-b77ed889c4a2",
   "metadata": {},
   "source": [
    "### preprocessing à l'aide de spacy avec les spécificités de la langues anglais"
   ]
  },
  {
   "cell_type": "code",
   "execution_count": 12,
   "id": "99e7f308-10d6-45d9-9d88-fec8e5859fea",
   "metadata": {},
   "outputs": [],
   "source": [
    "#import en_core_web_sm\n",
    "#nlp = en_core_web_sm.load()"
   ]
  },
  {
   "cell_type": "markdown",
   "id": "8b3e6819-6768-4895-8de4-e77f565516ee",
   "metadata": {},
   "source": [
    "### transformer notre colonne text en un objet nlp"
   ]
  },
  {
   "cell_type": "code",
   "execution_count": 13,
   "id": "c8e6cf50-f647-4bb0-bbbb-2e5ee14fc3f2",
   "metadata": {},
   "outputs": [],
   "source": [
    "#df[\"text_tokens\"] = df.text.map(lambda x: nlp(x))\n",
    "#df[\"text_tokens\"]"
   ]
  },
  {
   "cell_type": "markdown",
   "id": "097680d5-c543-4907-b575-e15e481d53ba",
   "metadata": {},
   "source": [
    "### Stemming du text"
   ]
  },
  {
   "cell_type": "code",
   "execution_count": 17,
   "id": "652ce04f-5033-42b0-9203-0bc530d36c54",
   "metadata": {},
   "outputs": [
    {
     "name": "stderr",
     "output_type": "stream",
     "text": [
      "[nltk_data] Downloading package punkt to /home/jovyan/nltk_data...\n",
      "[nltk_data]   Package punkt is already up-to-date!\n"
     ]
    },
    {
     "data": {
      "text/plain": [
       "text         The economic turnaround started at the end of ...\n",
       "text_stem    [the, econom, turnaround, start, at, the, end,...\n",
       "Name: 4, dtype: object"
      ]
     },
     "execution_count": 17,
     "metadata": {},
     "output_type": "execute_result"
    }
   ],
   "source": [
    "import nltk\n",
    "nltk.download('punkt')\n",
    "\n",
    "from nltk import word_tokenize\n",
    "from nltk.stem import PorterStemmer\n",
    "en = PorterStemmer()\n",
    "df[\"text_stem\"] = df[\"text\"].map(lambda s: [en.stem(word) for word in s.split(\" \")])\n",
    "df[[\"text\", \"text_stem\"]].iloc[4]#.tolist()"
   ]
  },
  {
   "cell_type": "code",
   "execution_count": null,
   "id": "7fb280dc-8aa4-4592-877c-bec4d943b13c",
   "metadata": {},
   "outputs": [],
   "source": []
  },
  {
   "cell_type": "code",
   "execution_count": 25,
   "id": "c2dbd1e3-e4e6-4a52-8f51-0c2d530a489f",
   "metadata": {},
   "outputs": [
    {
     "data": {
      "text/plain": [
       "15712"
      ]
     },
     "execution_count": 25,
     "metadata": {},
     "output_type": "execute_result"
    }
   ],
   "source": [
    "all_text = \" \".join(df[\"text_stem\"].map(lambda l: \" \".join(l)).tolist())\n",
    "len(set(all_text.split(\" \")))"
   ]
  },
  {
   "cell_type": "code",
   "execution_count": 24,
   "id": "d4b7a6b4-17dc-4c99-8be6-d21855146563",
   "metadata": {},
   "outputs": [
    {
     "data": {
      "text/plain": [
       "15712"
      ]
     },
     "execution_count": 24,
     "metadata": {},
     "output_type": "execute_result"
    }
   ],
   "source": []
  },
  {
   "cell_type": "code",
   "execution_count": null,
   "id": "b83dff2d-e2a9-4a97-a097-f09cd1aa1e36",
   "metadata": {},
   "outputs": [],
   "source": []
  },
  {
   "cell_type": "code",
   "execution_count": null,
   "id": "9be4ebcc-1c0e-4116-aa06-4b9d89a4830e",
   "metadata": {},
   "outputs": [],
   "source": [
    "df.head()"
   ]
  },
  {
   "cell_type": "code",
   "execution_count": null,
   "id": "24d74710-9249-4968-a776-5c3b93c49d75",
   "metadata": {},
   "outputs": [],
   "source": [
    "df[\"text_stem\"][1]"
   ]
  },
  {
   "cell_type": "code",
   "execution_count": null,
   "id": "3dfa0e4d-764e-48c7-90dd-07f1d5fe591e",
   "metadata": {},
   "outputs": [],
   "source": [
    "import pickle\n",
    "df.to_pickle('df_st_ps.pk')"
   ]
  },
  {
   "cell_type": "code",
   "execution_count": null,
   "id": "d4035856-6414-4ec4-a994-62dec309ce05",
   "metadata": {},
   "outputs": [],
   "source": [
    "en.stem(\"generously\")"
   ]
  },
  {
   "cell_type": "code",
   "execution_count": null,
   "id": "591d92fe-0402-49f6-a551-185fc4b42729",
   "metadata": {},
   "outputs": [],
   "source": [
    "from nltk.stem import PorterStemmer"
   ]
  },
  {
   "cell_type": "code",
   "execution_count": null,
   "id": "82597125-0c73-49f9-bc4e-edba3bf5ecab",
   "metadata": {},
   "outputs": [],
   "source": [
    "ps = PorterStemmer()\n",
    "ps.stem(\"generously\")"
   ]
  },
  {
   "cell_type": "code",
   "execution_count": null,
   "id": "d1388f00-4eee-40c7-9e78-6b0fc55884b7",
   "metadata": {},
   "outputs": [],
   "source": []
  }
 ],
 "metadata": {
  "kernelspec": {
   "display_name": "Python 3 (ipykernel)",
   "language": "python",
   "name": "python3"
  },
  "language_info": {
   "codemirror_mode": {
    "name": "ipython",
    "version": 3
   },
   "file_extension": ".py",
   "mimetype": "text/x-python",
   "name": "python",
   "nbconvert_exporter": "python",
   "pygments_lexer": "ipython3",
   "version": "3.9.7"
  }
 },
 "nbformat": 4,
 "nbformat_minor": 5
}
