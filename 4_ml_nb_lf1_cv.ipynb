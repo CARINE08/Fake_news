{
 "cells": [
  {
   "cell_type": "code",
   "execution_count": 1,
   "id": "10244940-0ff1-467b-bf93-b8208aa78b48",
   "metadata": {},
   "outputs": [],
   "source": [
    "import pandas as pd\n",
    "import spacy\n",
    "import matplotlib.pyplot as plt\n",
    "from urllib.parse import urlparse\n",
    "import pickle\n",
    "from sklearn.feature_extraction.text import CountVectorizer"
   ]
  },
  {
   "cell_type": "code",
   "execution_count": 2,
   "id": "a7fea5df-f293-410a-be44-1d5099459d35",
   "metadata": {},
   "outputs": [
    {
     "data": {
      "text/html": [
       "<div>\n",
       "<style scoped>\n",
       "    .dataframe tbody tr th:only-of-type {\n",
       "        vertical-align: middle;\n",
       "    }\n",
       "\n",
       "    .dataframe tbody tr th {\n",
       "        vertical-align: top;\n",
       "    }\n",
       "\n",
       "    .dataframe thead th {\n",
       "        text-align: right;\n",
       "    }\n",
       "</style>\n",
       "<table border=\"1\" class=\"dataframe\">\n",
       "  <thead>\n",
       "    <tr style=\"text-align: right;\">\n",
       "      <th></th>\n",
       "      <th>labels</th>\n",
       "      <th>text</th>\n",
       "      <th>text_tokens</th>\n",
       "      <th>text_cleaned</th>\n",
       "    </tr>\n",
       "  </thead>\n",
       "  <tbody>\n",
       "    <tr>\n",
       "      <th>6854</th>\n",
       "      <td>1</td>\n",
       "      <td>Obamacare medical device tax has led to the lo...</td>\n",
       "      <td>(Obamacare, medical, device, tax, has, led, to...</td>\n",
       "      <td>obamacare medical device tax have lead to loss...</td>\n",
       "    </tr>\n",
       "    <tr>\n",
       "      <th>2338</th>\n",
       "      <td>0</td>\n",
       "      <td>In 2008, then-Sen. Barack Obama missed 60 or 7...</td>\n",
       "      <td>(In, 2008, ,, then, -, Sen., Barack, Obama, mi...</td>\n",
       "      <td>in then Sen. Barack Obama miss percent of his ...</td>\n",
       "    </tr>\n",
       "    <tr>\n",
       "      <th>4636</th>\n",
       "      <td>1</td>\n",
       "      <td>There are 3 million jobs available in America ...</td>\n",
       "      <td>(There, are, 3, million, jobs, available, in, ...</td>\n",
       "      <td>there be job available in America that be fill...</td>\n",
       "    </tr>\n",
       "    <tr>\n",
       "      <th>2153</th>\n",
       "      <td>0</td>\n",
       "      <td>While in the Illinois Senate, Barack Obama pas...</td>\n",
       "      <td>(While, in, the, Illinois, Senate, ,, Barack, ...</td>\n",
       "      <td>in Illinois Senate Barack Obama pass tax cut f...</td>\n",
       "    </tr>\n",
       "    <tr>\n",
       "      <th>8431</th>\n",
       "      <td>1</td>\n",
       "      <td>Says Republican U.S. Rep. Bob Dold continues t...</td>\n",
       "      <td>(Says, Republican, U.S., Rep., Bob, Dold, cont...</td>\n",
       "      <td>say republican U.S. Rep. Bob Dold continue sid...</td>\n",
       "    </tr>\n",
       "  </tbody>\n",
       "</table>\n",
       "</div>"
      ],
      "text/plain": [
       "      labels                                               text  \\\n",
       "6854       1  Obamacare medical device tax has led to the lo...   \n",
       "2338       0  In 2008, then-Sen. Barack Obama missed 60 or 7...   \n",
       "4636       1  There are 3 million jobs available in America ...   \n",
       "2153       0  While in the Illinois Senate, Barack Obama pas...   \n",
       "8431       1  Says Republican U.S. Rep. Bob Dold continues t...   \n",
       "\n",
       "                                            text_tokens  \\\n",
       "6854  (Obamacare, medical, device, tax, has, led, to...   \n",
       "2338  (In, 2008, ,, then, -, Sen., Barack, Obama, mi...   \n",
       "4636  (There, are, 3, million, jobs, available, in, ...   \n",
       "2153  (While, in, the, Illinois, Senate, ,, Barack, ...   \n",
       "8431  (Says, Republican, U.S., Rep., Bob, Dold, cont...   \n",
       "\n",
       "                                           text_cleaned  \n",
       "6854  obamacare medical device tax have lead to loss...  \n",
       "2338  in then Sen. Barack Obama miss percent of his ...  \n",
       "4636  there be job available in America that be fill...  \n",
       "2153  in Illinois Senate Barack Obama pass tax cut f...  \n",
       "8431  say republican U.S. Rep. Bob Dold continue sid...  "
      ]
     },
     "execution_count": 2,
     "metadata": {},
     "output_type": "execute_result"
    }
   ],
   "source": [
    "fn = \"df_lem_ftr1.pk\"\n",
    "df = pd.read_pickle(fn)\n",
    "df.sample(5)"
   ]
  },
  {
   "cell_type": "code",
   "execution_count": 3,
   "id": "2d7c396b-bf29-48ca-afea-555ee5074e42",
   "metadata": {},
   "outputs": [
    {
     "name": "stdout",
     "output_type": "stream",
     "text": [
      "Fitting 5 folds for each of 2016 candidates, totalling 10080 fits\n"
     ]
    },
    {
     "data": {
      "text/plain": [
       "GridSearchCV(estimator=Pipeline(steps=[('CV', CountVectorizer()),\n",
       "                                       ('mnb', MultinomialNB())]),\n",
       "             n_jobs=5,\n",
       "             param_grid={'CV__binary': [True, False],\n",
       "                         'CV__max_df': [0.95, 0.9, 0.85, 0.8, 0.75, 0.7, 0.65,\n",
       "                                        0.6, 0.55, 0.5, 0.45, 0.4],\n",
       "                         'CV__min_df': [0.0001, 0.00025, 0.0005, 0.001, 0.0025,\n",
       "                                        0.005],\n",
       "                         'CV__ngram_range': [(1, 1), (1, 2)],\n",
       "                         'mnb__alpha': [1, 4, 16, 64, 128, 256, 512],\n",
       "                         'mnb__fit_prior': [False]},\n",
       "             scoring='f1', verbose=1)"
      ]
     },
     "execution_count": 3,
     "metadata": {},
     "output_type": "execute_result"
    }
   ],
   "source": [
    "from sklearn.pipeline import Pipeline\n",
    "from sklearn.metrics import accuracy_score, f1_score, ConfusionMatrixDisplay, RocCurveDisplay\n",
    "from sklearn.model_selection import cross_val_score, GridSearchCV\n",
    "from sklearn.naive_bayes import MultinomialNB\n",
    "\n",
    "Y = df[\"labels\"]\n",
    "X = df[\"text_cleaned\"]\n",
    "\n",
    "pipeline = Pipeline(\n",
    "    [\n",
    "        (\"CV\", CountVectorizer()), \n",
    "        (\"mnb\", MultinomialNB(class_prior=None))\n",
    "    ]\n",
    ")\n",
    "\n",
    "param_grid = {\n",
    "    \n",
    "    \n",
    "    \"CV__ngram_range\": [(1,1),(1,2)],\n",
    "    \"CV__max_df\": [0.95,0.90,0.85,0.80,0.75,0.70,0.65,0.60,0.55,0.50, 0.45, 0.40],\n",
    "    \"CV__min_df\": [0.0001, 0.00025, 0.0005, 0.001, 0.0025, 0.005],\n",
    "    \"CV__binary\": [True,False],\n",
    "    \"mnb__alpha\": [1, 4, 16, 64, 128, 256, 512],\n",
    "    \"mnb__fit_prior\": [False]\n",
    "    \n",
    "    \n",
    "    \n",
    "}\n",
    "\n",
    "SCORING = \"f1\"\n",
    "\n",
    "\n",
    "grid = GridSearchCV(\n",
    "    pipeline,\n",
    "    n_jobs=5,\n",
    "    param_grid=param_grid,\n",
    "    verbose=1,\n",
    "    # réentrainer le meilleur modèle sur toutes les données\n",
    "    refit=True,\n",
    "    scoring=SCORING,\n",
    ")\n",
    "\n",
    "\n",
    "\n",
    "\n",
    "\n",
    "grid.fit(X, Y)"
   ]
  },
  {
   "cell_type": "code",
   "execution_count": 4,
   "id": "ad65f8ed-6b9a-4149-833a-e4d3a04b696e",
   "metadata": {},
   "outputs": [
    {
     "data": {
      "text/plain": [
       "Pipeline(steps=[('CV',\n",
       "                 CountVectorizer(binary=True, max_df=0.95, min_df=0.0025,\n",
       "                                 ngram_range=(1, 2))),\n",
       "                ('mnb', MultinomialNB(alpha=512, fit_prior=False))])"
      ]
     },
     "execution_count": 4,
     "metadata": {},
     "output_type": "execute_result"
    }
   ],
   "source": [
    "grid.best_estimator_"
   ]
  },
  {
   "cell_type": "code",
   "execution_count": 5,
   "id": "d41e2f1d-b5d5-4228-a88e-ef6f9d9b73cb",
   "metadata": {},
   "outputs": [
    {
     "data": {
      "text/plain": [
       "['4_ml_nb_lf1_cv_best.pkl']"
      ]
     },
     "execution_count": 5,
     "metadata": {},
     "output_type": "execute_result"
    }
   ],
   "source": [
    "import joblib\n",
    "joblib.dump(grid, '4_ml_nb_lf1_cv_best.pkl')"
   ]
  },
  {
   "cell_type": "code",
   "execution_count": 6,
   "id": "3ffc87ef-a9fe-474c-834c-c6113962003b",
   "metadata": {},
   "outputs": [
    {
     "data": {
      "text/plain": [
       "0.7603513477735412"
      ]
     },
     "execution_count": 6,
     "metadata": {},
     "output_type": "execute_result"
    }
   ],
   "source": [
    "grid.best_score_"
   ]
  },
  {
   "cell_type": "code",
   "execution_count": 7,
   "id": "d6505c43-7e4f-45a0-b7ca-3515b9a51b12",
   "metadata": {},
   "outputs": [
    {
     "data": {
      "text/plain": [
       "1343"
      ]
     },
     "execution_count": 7,
     "metadata": {},
     "output_type": "execute_result"
    }
   ],
   "source": [
    "len(grid.best_estimator_['CV'].vocabulary_)"
   ]
  },
  {
   "cell_type": "code",
   "execution_count": null,
   "id": "6d743ab3-3df7-4c20-a0f9-c779df1cc9fd",
   "metadata": {},
   "outputs": [],
   "source": []
  }
 ],
 "metadata": {
  "kernelspec": {
   "display_name": "Python 3 (ipykernel)",
   "language": "python",
   "name": "python3"
  },
  "language_info": {
   "codemirror_mode": {
    "name": "ipython",
    "version": 3
   },
   "file_extension": ".py",
   "mimetype": "text/x-python",
   "name": "python",
   "nbconvert_exporter": "python",
   "pygments_lexer": "ipython3",
   "version": "3.9.7"
  }
 },
 "nbformat": 4,
 "nbformat_minor": 5
}
